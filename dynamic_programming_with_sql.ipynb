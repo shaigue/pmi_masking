{
 "cells": [
  {
   "cell_type": "code",
   "execution_count": 1,
   "id": "c996909d",
   "metadata": {},
   "outputs": [],
   "source": [
    "import duckdb\n",
    "import pyarrow as pa"
   ]
  },
  {
   "cell_type": "code",
   "execution_count": 22,
   "id": "fb6721cd",
   "metadata": {},
   "outputs": [],
   "source": [
    "# create dummy tables\n",
    "table1 = pa.Table.from_pydict({\n",
    "    'token_1': [1, 2, 3, 4],\n",
    "    'value':   [1, 2, 3, 4],\n",
    "})\n",
    "table2 = pa.Table.from_pydict({\n",
    "    'token_1': [1, 2, 3, 4, 1, 2, 3, 4],\n",
    "    'token_2': [1, 1, 1, 1, 3, 3, 3, 3],\n",
    "    'value':   [0, 0, 0, 0, 0, 0, 0, 0] # set a default value smaller than any possible value so I can take the maximum\n",
    "})\n",
    "table3 = pa.Table.from_pydict({\n",
    "    'token_1': [1, 2, 3, 4, 1, 2, 3, 4],\n",
    "    'token_2': [1, 1, 1, 1, 3, 3, 3, 3],\n",
    "    'token_3': [1, 3, 1, 3, 1, 3, 1, 3],\n",
    "    'value':   [0, 0, 0, 0, 0, 0, 0, 0] # set a default value smaller than any possible value so I can take the maximum\n",
    "})"
   ]
  },
  {
   "cell_type": "code",
   "execution_count": 23,
   "id": "b7466044",
   "metadata": {},
   "outputs": [],
   "source": [
    "create_table_queries = [\n",
    "    'CREATE OR REPLACE TABLE t1 AS SELECT * FROM table1',\n",
    "    'CREATE OR REPLACE TABLE t2 AS SELECT * FROM table2',\n",
    "    'CREATE OR REPLACE TABLE t3 AS SELECT * FROM table3',\n",
    "]\n",
    "for query in create_table_queries:\n",
    "    duckdb.execute(query)"
   ]
  },
  {
   "cell_type": "code",
   "execution_count": 24,
   "id": "1d3f7ec6",
   "metadata": {},
   "outputs": [],
   "source": [
    "def get_table(table_name: str):\n",
    "    return duckdb.sql(f'SELECT * FROM {table_name}')"
   ]
  },
  {
   "cell_type": "code",
   "execution_count": 25,
   "id": "ab7113c3",
   "metadata": {},
   "outputs": [
    {
     "data": {
      "text/plain": [
       "┌─────────┬───────┐\n",
       "│ token_1 │ value │\n",
       "│  int64  │ int64 │\n",
       "├─────────┼───────┤\n",
       "│       1 │     1 │\n",
       "│       2 │     2 │\n",
       "│       3 │     3 │\n",
       "│       4 │     4 │\n",
       "└─────────┴───────┘"
      ]
     },
     "execution_count": 25,
     "metadata": {},
     "output_type": "execute_result"
    }
   ],
   "source": [
    "get_table('t1')"
   ]
  },
  {
   "cell_type": "code",
   "execution_count": 26,
   "id": "1af793fb",
   "metadata": {},
   "outputs": [
    {
     "data": {
      "text/plain": [
       "┌─────────┬─────────┬───────┐\n",
       "│ token_1 │ token_2 │ value │\n",
       "│  int64  │  int64  │ int64 │\n",
       "├─────────┼─────────┼───────┤\n",
       "│       1 │       1 │     0 │\n",
       "│       2 │       1 │     0 │\n",
       "│       3 │       1 │     0 │\n",
       "│       4 │       1 │     0 │\n",
       "│       1 │       3 │     0 │\n",
       "│       2 │       3 │     0 │\n",
       "│       3 │       3 │     0 │\n",
       "│       4 │       3 │     0 │\n",
       "└─────────┴─────────┴───────┘"
      ]
     },
     "execution_count": 26,
     "metadata": {},
     "output_type": "execute_result"
    }
   ],
   "source": [
    "get_table('t2')"
   ]
  },
  {
   "cell_type": "code",
   "execution_count": 27,
   "id": "15dbd061",
   "metadata": {},
   "outputs": [
    {
     "data": {
      "text/plain": [
       "┌─────────┬─────────┬─────────┬───────┐\n",
       "│ token_1 │ token_2 │ token_3 │ value │\n",
       "│  int64  │  int64  │  int64  │ int64 │\n",
       "├─────────┼─────────┼─────────┼───────┤\n",
       "│       1 │       1 │       1 │     0 │\n",
       "│       2 │       1 │       3 │     0 │\n",
       "│       3 │       1 │       1 │     0 │\n",
       "│       4 │       1 │       3 │     0 │\n",
       "│       1 │       3 │       1 │     0 │\n",
       "│       2 │       3 │       3 │     0 │\n",
       "│       3 │       3 │       1 │     0 │\n",
       "│       4 │       3 │       3 │     0 │\n",
       "└─────────┴─────────┴─────────┴───────┘"
      ]
     },
     "execution_count": 27,
     "metadata": {},
     "output_type": "execute_result"
    }
   ],
   "source": [
    "get_table('t3')"
   ]
  },
  {
   "cell_type": "code",
   "execution_count": 19,
   "id": "b2a2e177",
   "metadata": {},
   "outputs": [],
   "source": [
    "# dynamic programming with SQL\n",
    "# ngrams of size 2"
   ]
  },
  {
   "cell_type": "code",
   "execution_count": 47,
   "id": "fb24be15",
   "metadata": {},
   "outputs": [
    {
     "data": {
      "text/plain": [
       "┌─────────┬────────┐\n",
       "│ token_1 │ value1 │\n",
       "│  int64  │ int64  │\n",
       "├─────────┼────────┤\n",
       "│       1 │      1 │\n",
       "│       2 │      2 │\n",
       "│       3 │      3 │\n",
       "│       4 │      4 │\n",
       "│       1 │      1 │\n",
       "│       2 │      2 │\n",
       "│       3 │      3 │\n",
       "│       4 │      4 │\n",
       "└─────────┴────────┘"
      ]
     },
     "execution_count": 47,
     "metadata": {},
     "output_type": "execute_result"
    }
   ],
   "source": [
    "# get the row of values from t1 that matches the first token\n",
    "select_value1_query = 'SELECT t2.token_1 AS token_1, t1.value AS value1 FROM t2 INNER JOIN t1 ON t2.token_1 = t1.token_1'\n",
    "duckdb.sql(select_value1_query)"
   ]
  },
  {
   "cell_type": "code",
   "execution_count": 48,
   "id": "c4c1997a",
   "metadata": {},
   "outputs": [
    {
     "data": {
      "text/plain": [
       "┌─────────┬────────┐\n",
       "│ token_2 │ value2 │\n",
       "│  int64  │ int64  │\n",
       "├─────────┼────────┤\n",
       "│       1 │      1 │\n",
       "│       1 │      1 │\n",
       "│       1 │      1 │\n",
       "│       1 │      1 │\n",
       "│       3 │      3 │\n",
       "│       3 │      3 │\n",
       "│       3 │      3 │\n",
       "│       3 │      3 │\n",
       "└─────────┴────────┘"
      ]
     },
     "execution_count": 48,
     "metadata": {},
     "output_type": "execute_result"
    }
   ],
   "source": [
    "# get the row of values from t1 that matches the second token\n",
    "select_value2_query = 'SELECT t2.token_2 AS token_2, t1.value AS value2 FROM t2 INNER JOIN t1 ON t2.token_2 = t1.token_1'\n",
    "duckdb.sql(select_value2_query)"
   ]
  },
  {
   "cell_type": "code",
   "execution_count": 49,
   "id": "3a3e28a8",
   "metadata": {},
   "outputs": [
    {
     "data": {
      "text/plain": [
       "┌─────────┬─────────┬───────────┐\n",
       "│ token_1 │ token_2 │ sum_value │\n",
       "│  int64  │  int64  │   int64   │\n",
       "├─────────┼─────────┼───────────┤\n",
       "│       1 │       1 │         2 │\n",
       "│       2 │       1 │         3 │\n",
       "│       3 │       1 │         4 │\n",
       "│       4 │       1 │         5 │\n",
       "│       1 │       3 │         4 │\n",
       "│       2 │       3 │         5 │\n",
       "│       3 │       3 │         6 │\n",
       "│       4 │       3 │         7 │\n",
       "└─────────┴─────────┴───────────┘"
      ]
     },
     "execution_count": 49,
     "metadata": {},
     "output_type": "execute_result"
    }
   ],
   "source": [
    "# get the sum of the values\n",
    "select_sum_value = f\"\"\"\n",
    "SELECT token_1, token_2, value1 + value2 AS sum_value \n",
    "FROM ({select_value1_query}) POSITIONAL JOIN ({select_value2_query})\n",
    "\"\"\"\n",
    "duckdb.sql(select_sum_value)"
   ]
  },
  {
   "cell_type": "code",
   "execution_count": 51,
   "id": "f8663cfc",
   "metadata": {},
   "outputs": [
    {
     "data": {
      "text/plain": [
       "<duckdb.DuckDBPyConnection at 0x15a2cf56a70>"
      ]
     },
     "execution_count": 51,
     "metadata": {},
     "output_type": "execute_result"
    }
   ],
   "source": [
    "# update the table with the maximum sum value\n",
    "max_update_query = f\"\"\"\n",
    "UPDATE t2\n",
    "SET value = greatest(t2.value, sum_value) \n",
    "FROM ({select_sum_value}) AS x\n",
    "WHERE t2.token_1 = x.token_1 AND t2.token_2 = x.token_2\n",
    "\"\"\"\n",
    "duckdb.execute(max_update_query)"
   ]
  },
  {
   "cell_type": "code",
   "execution_count": 52,
   "id": "09cd7f06",
   "metadata": {},
   "outputs": [
    {
     "data": {
      "text/plain": [
       "┌─────────┬─────────┬───────┐\n",
       "│ token_1 │ token_2 │ value │\n",
       "│  int64  │  int64  │ int64 │\n",
       "├─────────┼─────────┼───────┤\n",
       "│       1 │       1 │     2 │\n",
       "│       2 │       1 │     3 │\n",
       "│       3 │       1 │     4 │\n",
       "│       4 │       1 │     5 │\n",
       "│       1 │       3 │     4 │\n",
       "│       2 │       3 │     5 │\n",
       "│       3 │       3 │     6 │\n",
       "│       4 │       3 │     7 │\n",
       "└─────────┴─────────┴───────┘"
      ]
     },
     "execution_count": 52,
     "metadata": {},
     "output_type": "execute_result"
    }
   ],
   "source": [
    "get_table('t2')"
   ]
  },
  {
   "cell_type": "code",
   "execution_count": 68,
   "id": "3a6c6c3f",
   "metadata": {},
   "outputs": [
    {
     "data": {
      "text/plain": [
       "┌─────────┬─────────┬─────────┬───────┐\n",
       "│ token_1 │ token_2 │ token_3 │ value │\n",
       "│  int64  │  int64  │  int64  │ int64 │\n",
       "├─────────┼─────────┼─────────┼───────┤\n",
       "│       1 │       1 │       1 │     3 │\n",
       "│       2 │       1 │       3 │     6 │\n",
       "│       3 │       1 │       1 │     5 │\n",
       "│       4 │       1 │       3 │     8 │\n",
       "│       1 │       3 │       1 │     5 │\n",
       "│       2 │       3 │       3 │     8 │\n",
       "│       3 │       3 │       1 │     7 │\n",
       "│       4 │       3 │       3 │    10 │\n",
       "└─────────┴─────────┴─────────┴───────┘"
      ]
     },
     "execution_count": 68,
     "metadata": {},
     "output_type": "execute_result"
    }
   ],
   "source": [
    "q = f\"\"\"\n",
    "UPDATE t3 \n",
    "    SET value = greatest(x.value, t2.value + t1.value)\n",
    "FROM t3 x\n",
    "    INNER JOIN t2 ON (x.token_1 = t2.token_1 AND x.token_2 = t2.token_2)\n",
    "    INNER JOIN t1 ON (x.token_3 = t1.token_1)\n",
    "WHERE (t3.token_1 = x.token_1 AND t3.token_2 = x.token_2 AND t3.token_3 = x.token_3) \n",
    "\"\"\"\n",
    "duckdb.execute(q)\n",
    "get_table('t3')"
   ]
  },
  {
   "cell_type": "code",
   "execution_count": 76,
   "id": "d793da21",
   "metadata": {},
   "outputs": [],
   "source": [
    "# ngram of size 3, there are two steps. (token_1, token_2), token_3 | token_1, (token_2, token_3)\n",
    "def get_update_max_query(ngram_size: int, index_to_slice: int) -> str:\n",
    "    if index_to_slice > ngram_size - 1 or index_to_slice < 1:\n",
    "        raise ValueError\n",
    "    \n",
    "    tokens = [f'token_{i}' for i in range(1, ngram_size + 1)]\n",
    "    token_slice1 = tokens[:index_to_slice]\n",
    "    token_slice2 = tokens[index_to_slice:]\n",
    "    offseted_token_slice2 = tokens[:len(token_slice2)]\n",
    "      \n",
    "    table_to_update = f't{ngram_size}'\n",
    "    table_1 = f't{len(token_slice1)}'\n",
    "    table_2 = f't{len(token_slice2)}'\n",
    "    \n",
    "    q = f\"\"\"\n",
    "    UPDATE {table_to_update}\n",
    "        SET value = greatest(x.value, {table_1}.value + {table_2}.value)\n",
    "    FROM t3 x\n",
    "        INNER JOIN {table_1} ON \n",
    "            ({' AND '.join(f'x.{token} = {table_1}.{token}' for token in token_slice1)})\n",
    "        INNER JOIN {table_2} ON \n",
    "            ({' AND '.join(f'x.{token} = {table_2}.{token_}' for token, token_ in zip(token_slice2, offseted_token_slice2))})\n",
    "    WHERE ({' AND '.join(f'{table_to_update}.{token} = x.{token}' for token in tokens)})\n",
    "    \"\"\"\n",
    "    return q"
   ]
  },
  {
   "cell_type": "code",
   "execution_count": 77,
   "id": "53cea694",
   "metadata": {},
   "outputs": [
    {
     "name": "stdout",
     "output_type": "stream",
     "text": [
      "\n",
      "    UPDATE t3\n",
      "        SET value = greatest(x.value, t1.value + t2.value)\n",
      "    FROM t3 x\n",
      "        INNER JOIN t1 ON \n",
      "            (x.token_1 = t1.token_1)\n",
      "        INNER JOIN t2 ON \n",
      "            (x.token_2 = t2.token_1 AND x.token_3 = t2.token_2)\n",
      "    WHERE (t3.token_1 = x.token_1 AND t3.token_2 = x.token_2 AND t3.token_3 = x.token_3)\n",
      "    \n"
     ]
    }
   ],
   "source": [
    "print(get_update_max_query(3, 1))"
   ]
  },
  {
   "cell_type": "code",
   "execution_count": 78,
   "id": "f9a0809f",
   "metadata": {},
   "outputs": [
    {
     "data": {
      "text/plain": [
       "┌─────────┬─────────┬─────────┬───────┐\n",
       "│ token_1 │ token_2 │ token_3 │ value │\n",
       "│  int64  │  int64  │  int64  │ int64 │\n",
       "├─────────┼─────────┼─────────┼───────┤\n",
       "│       1 │       1 │       1 │     0 │\n",
       "│       2 │       1 │       3 │     0 │\n",
       "│       3 │       1 │       1 │     0 │\n",
       "│       4 │       1 │       3 │     0 │\n",
       "│       1 │       3 │       1 │     0 │\n",
       "│       2 │       3 │       3 │     0 │\n",
       "│       3 │       3 │       1 │     0 │\n",
       "│       4 │       3 │       3 │     0 │\n",
       "└─────────┴─────────┴─────────┴───────┘"
      ]
     },
     "execution_count": 78,
     "metadata": {},
     "output_type": "execute_result"
    }
   ],
   "source": [
    "# initialize values to 0\n",
    "reset_query = 'UPDATE t3 SET value = 0'\n",
    "duckdb.execute(reset_query)\n",
    "get_table('t3')"
   ]
  },
  {
   "cell_type": "code",
   "execution_count": 79,
   "id": "bab6eba9",
   "metadata": {},
   "outputs": [
    {
     "data": {
      "text/plain": [
       "┌─────────┬─────────┬─────────┬───────┐\n",
       "│ token_1 │ token_2 │ token_3 │ value │\n",
       "│  int64  │  int64  │  int64  │ int64 │\n",
       "├─────────┼─────────┼─────────┼───────┤\n",
       "│       1 │       1 │       1 │     3 │\n",
       "│       2 │       1 │       3 │     6 │\n",
       "│       3 │       1 │       1 │     5 │\n",
       "│       4 │       1 │       3 │     8 │\n",
       "│       1 │       3 │       1 │     5 │\n",
       "│       2 │       3 │       3 │     8 │\n",
       "│       3 │       3 │       1 │     7 │\n",
       "│       4 │       3 │       3 │    10 │\n",
       "└─────────┴─────────┴─────────┴───────┘"
      ]
     },
     "execution_count": 79,
     "metadata": {},
     "output_type": "execute_result"
    }
   ],
   "source": [
    "update_query1 = get_update_max_query(3, 1)\n",
    "duckdb.execute(update_query1)\n",
    "get_table('t3')"
   ]
  },
  {
   "cell_type": "code",
   "execution_count": 80,
   "id": "222e9265",
   "metadata": {},
   "outputs": [
    {
     "data": {
      "text/plain": [
       "┌─────────┬─────────┬─────────┬───────┐\n",
       "│ token_1 │ token_2 │ token_3 │ value │\n",
       "│  int64  │  int64  │  int64  │ int64 │\n",
       "├─────────┼─────────┼─────────┼───────┤\n",
       "│       1 │       1 │       1 │     0 │\n",
       "│       2 │       1 │       3 │     0 │\n",
       "│       3 │       1 │       1 │     0 │\n",
       "│       4 │       1 │       3 │     0 │\n",
       "│       1 │       3 │       1 │     0 │\n",
       "│       2 │       3 │       3 │     0 │\n",
       "│       3 │       3 │       1 │     0 │\n",
       "│       4 │       3 │       3 │     0 │\n",
       "└─────────┴─────────┴─────────┴───────┘"
      ]
     },
     "execution_count": 80,
     "metadata": {},
     "output_type": "execute_result"
    }
   ],
   "source": [
    "duckdb.execute(reset_query)\n",
    "get_table('t3')"
   ]
  },
  {
   "cell_type": "code",
   "execution_count": 81,
   "id": "66b43499",
   "metadata": {},
   "outputs": [
    {
     "data": {
      "text/plain": [
       "┌─────────┬─────────┬─────────┬───────┐\n",
       "│ token_1 │ token_2 │ token_3 │ value │\n",
       "│  int64  │  int64  │  int64  │ int64 │\n",
       "├─────────┼─────────┼─────────┼───────┤\n",
       "│       1 │       1 │       1 │     3 │\n",
       "│       2 │       1 │       3 │     6 │\n",
       "│       3 │       1 │       1 │     5 │\n",
       "│       4 │       1 │       3 │     8 │\n",
       "│       1 │       3 │       1 │     5 │\n",
       "│       2 │       3 │       3 │     8 │\n",
       "│       3 │       3 │       1 │     7 │\n",
       "│       4 │       3 │       3 │    10 │\n",
       "└─────────┴─────────┴─────────┴───────┘"
      ]
     },
     "execution_count": 81,
     "metadata": {},
     "output_type": "execute_result"
    }
   ],
   "source": [
    "update_query1 = get_update_max_query(3, 2)\n",
    "duckdb.execute(update_query1)\n",
    "get_table('t3')"
   ]
  },
  {
   "cell_type": "code",
   "execution_count": 82,
   "id": "7e72856e",
   "metadata": {},
   "outputs": [
    {
     "data": {
      "text/plain": [
       "┌─────────┬─────────┬─────────┬───────┐\n",
       "│ token_1 │ token_2 │ token_3 │ value │\n",
       "│  int64  │  int64  │  int64  │ int64 │\n",
       "├─────────┼─────────┼─────────┼───────┤\n",
       "│       1 │       1 │       1 │     0 │\n",
       "│       2 │       1 │       3 │     0 │\n",
       "│       3 │       1 │       1 │     0 │\n",
       "│       4 │       1 │       3 │     0 │\n",
       "│       1 │       3 │       1 │     0 │\n",
       "│       2 │       3 │       3 │     0 │\n",
       "│       3 │       3 │       1 │     0 │\n",
       "│       4 │       3 │       3 │     0 │\n",
       "└─────────┴─────────┴─────────┴───────┘"
      ]
     },
     "execution_count": 82,
     "metadata": {},
     "output_type": "execute_result"
    }
   ],
   "source": [
    "duckdb.execute(reset_query)\n",
    "get_table('t3')"
   ]
  },
  {
   "cell_type": "code",
   "execution_count": 83,
   "id": "a7e01c70",
   "metadata": {},
   "outputs": [
    {
     "data": {
      "text/plain": [
       "┌─────────┬─────────┬─────────┬───────┐\n",
       "│ token_1 │ token_2 │ token_3 │ value │\n",
       "│  int64  │  int64  │  int64  │ int64 │\n",
       "├─────────┼─────────┼─────────┼───────┤\n",
       "│       1 │       1 │       1 │     3 │\n",
       "│       2 │       1 │       3 │     6 │\n",
       "│       3 │       1 │       1 │     5 │\n",
       "│       4 │       1 │       3 │     8 │\n",
       "│       1 │       3 │       1 │     5 │\n",
       "│       2 │       3 │       3 │     8 │\n",
       "│       3 │       3 │       1 │     7 │\n",
       "│       4 │       3 │       3 │    10 │\n",
       "└─────────┴─────────┴─────────┴───────┘"
      ]
     },
     "execution_count": 83,
     "metadata": {},
     "output_type": "execute_result"
    }
   ],
   "source": [
    "# now, the dynamic algorithm is to go from 1 to ngram_size - 1 and compute the max of it all\n",
    "ngram_size = 3\n",
    "for i in range(1, ngram_size):\n",
    "    update_max_query = get_update_max_query(ngram_size, i)\n",
    "    duckdb.execute(update_max_query)\n",
    "get_table('t3')"
   ]
  }
 ],
 "metadata": {
  "kernelspec": {
   "display_name": "Python (pmi_masking)",
   "language": "python",
   "name": "pmi_masking"
  },
  "language_info": {
   "codemirror_mode": {
    "name": "ipython",
    "version": 3
   },
   "file_extension": ".py",
   "mimetype": "text/x-python",
   "name": "python",
   "nbconvert_exporter": "python",
   "pygments_lexer": "ipython3",
   "version": "3.11.1"
  }
 },
 "nbformat": 4,
 "nbformat_minor": 5
}
