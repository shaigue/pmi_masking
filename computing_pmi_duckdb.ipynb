{
 "cells": [
  {
   "cell_type": "markdown",
   "id": "656240f4",
   "metadata": {},
   "source": [
    "## COMPUTING PMI SCORES\n",
    "in this notebook I will experiement with computing the PMI scores using duckDB"
   ]
  },
  {
   "cell_type": "code",
   "execution_count": 1,
   "id": "841505bf",
   "metadata": {},
   "outputs": [],
   "source": [
    "import duckdb"
   ]
  },
  {
   "cell_type": "code",
   "execution_count": 2,
   "id": "f04450c4",
   "metadata": {},
   "outputs": [
    {
     "data": {
      "text/plain": [
       "pyarrow.Table\n",
       "name: string\n",
       "----\n",
       "name: [[\"ngram_counter\",\"ngram_counts_of_size_1\",\"ngram_counts_of_size_2\",\"ngram_counts_of_size_3\",\"ngram_counts_of_size_4\",\"ngram_counts_of_size_5\"]]"
      ]
     },
     "execution_count": 2,
     "metadata": {},
     "output_type": "execute_result"
    }
   ],
   "source": [
    "db_connection = duckdb.connect('example_db.duckdb')\n",
    "db_connection.execute(\"SHOW TABLES\").arrow()"
   ]
  },
  {
   "cell_type": "code",
   "execution_count": 3,
   "id": "3fcaeef6",
   "metadata": {},
   "outputs": [],
   "source": [
    "ngram_counter_table_name = 'ngram_counter'"
   ]
  },
  {
   "cell_type": "markdown",
   "id": "bd2becfb",
   "metadata": {},
   "source": [
    "## add columns"
   ]
  },
  {
   "cell_type": "code",
   "execution_count": 4,
   "id": "cc232cb8",
   "metadata": {},
   "outputs": [],
   "source": [
    "# TODO: read about sql's views it might be more efficient.\n",
    "# add_column_query = f'ALTER TABLE {ngram_counter_table_name} ADD COLUMN log_likelihood DOUBLE;'\n",
    "# add_column_query = f'ALTER TABLE {ngram_counter_table_name} DROP COLUMN log_likelihood;'\n",
    "\n",
    "#     ADD COLUMN min_segmentation_sum DOUBLE;\n",
    "#     ADD CULUMN pmi_score DOUBLE;\n",
    "# \"\"\"\n",
    "# # db_connection.execute(add_column_query)M\n",
    "\n",
    "# # add_column_query = f'ALTER TABLE {ngram_counter_table_name} ADD COLUMN min_segmentation_sum DOUBLE;'\n",
    "# add_column_query = f'ALTER TABLE {ngram_counter_table_name} DROP COLUMN min_segmentation_sum;'\n",
    "# db_connection.execute(add_column_query)\n",
    "# # add_column_query = f'ALTER TABLE {ngram_counter_table_name} ADD COLUMN pmi_score DOUBLE;'\n",
    "# add_column_query = f'ALTER TABLE {ngram_counter_table_name} DROP COLUMN pmi_score;'\n",
    "# db_connection.execute(add_column_query)"
   ]
  },
  {
   "cell_type": "code",
   "execution_count": 5,
   "id": "10e8cc5f",
   "metadata": {},
   "outputs": [
    {
     "data": {
      "text/plain": [
       "┌──────────────────────┬────────┐\n",
       "│        ngram         │ count  │\n",
       "│       varchar        │ int32  │\n",
       "├──────────────────────┼────────┤\n",
       "│ 2788                 │   1260 │\n",
       "│ 1010                 │ 627689 │\n",
       "│ 2002                 │ 188278 │\n",
       "│ 2052                 │  35503 │\n",
       "│ 2022                 │  50430 │\n",
       "│ 13311                │    249 │\n",
       "│ 2105                 │  18310 │\n",
       "│ 1996                 │ 439426 │\n",
       "│ 2542                 │   2311 │\n",
       "│ 2282                 │  10507 │\n",
       "│  ·                   │      · │\n",
       "│  ·                   │      · │\n",
       "│  ·                   │      · │\n",
       "│ 2545,2788,3062,2046  │      1 │\n",
       "│ 2788,3062,2046,2048  │      1 │\n",
       "│ 3062,2046,2048,7236  │      1 │\n",
       "│ 2046,2048,7236,1011  │      1 │\n",
       "│ 2048,7236,1011,2216  │      1 │\n",
       "│ 7236,1011,2216,2040  │      1 │\n",
       "│ 1011,2216,2040,2020  │      1 │\n",
       "│ 2216,2040,2020,2145  │      1 │\n",
       "│ 2040,2020,2145,13879 │      1 │\n",
       "│ 2020,2145,13879,2011 │      1 │\n",
       "├──────────────────────┴────────┤\n",
       "│ ? rows (>9999 rows, 20 shown) │\n",
       "└───────────────────────────────┘"
      ]
     },
     "execution_count": 5,
     "metadata": {},
     "output_type": "execute_result"
    }
   ],
   "source": [
    "rel = db_connection.sql(f'SELECT * FROM {ngram_counter_table_name}')\n",
    "rel"
   ]
  },
  {
   "cell_type": "markdown",
   "id": "286872b3",
   "metadata": {},
   "source": [
    "## compute the log liklihood into a new column to the database"
   ]
  },
  {
   "cell_type": "code",
   "execution_count": 6,
   "id": "57d6b6ed",
   "metadata": {},
   "outputs": [
    {
     "name": "stdout",
     "output_type": "stream",
     "text": [
      "┌────────────┐\n",
      "│ max(count) │\n",
      "│   int32    │\n",
      "├────────────┤\n",
      "│     948506 │\n",
      "└────────────┘\n",
      "\n"
     ]
    }
   ],
   "source": [
    "max_count_query = rel.max('count')\n",
    "max_count_query.show()"
   ]
  },
  {
   "cell_type": "code",
   "execution_count": 7,
   "id": "d7624d3a",
   "metadata": {},
   "outputs": [
    {
     "data": {
      "text/plain": [
       "{1: 5000000, 2: 5000000, 3: 5000000, 4: 5000000, 5: 5000000}"
      ]
     },
     "execution_count": 7,
     "metadata": {},
     "output_type": "execute_result"
    }
   ],
   "source": [
    "# TODO: DUMMY, replace with the real thing\n",
    "dummy_count = 5_000_000\n",
    "ngram_of_size_dict = {i: dummy_count for i in range(1, 6)}\n",
    "ngram_of_size_dict"
   ]
  },
  {
   "cell_type": "code",
   "execution_count": 8,
   "id": "beecc0af",
   "metadata": {},
   "outputs": [],
   "source": [
    "# Now, I want to convert the table that I have into seperate table according to the different ngram-lengths.\n",
    "# TODO: in the proper implementation, I want to do that from the start. there will not be a single large table.\n",
    "# definitions\n",
    "# CREATE TABLE t1(id INTEGER, j VARCHAR, PRIMARY KEY(id, j));\n",
    "# UINTEGER\n",
    "max_ngram_size = 5\n",
    "table_name_format = 'ngram_counts_of_size_{ngram_size}'"
   ]
  },
  {
   "cell_type": "code",
   "execution_count": 9,
   "id": "5429428f",
   "metadata": {},
   "outputs": [],
   "source": [
    "def get_ngram_counts_of_size_table_name(ngram_size: int) -> str:\n",
    "    return f'ngram_counts_of_size_{ngram_size}'"
   ]
  },
  {
   "cell_type": "code",
   "execution_count": 10,
   "id": "00632a9d",
   "metadata": {},
   "outputs": [
    {
     "data": {
      "text/plain": [
       "'CREATE OR REPLACE TABLE {table_name}({ngram_field_decleration}, count UINTEGER, PRIMARY KEY({ngram_field_key}));'"
      ]
     },
     "execution_count": 10,
     "metadata": {},
     "output_type": "execute_result"
    }
   ],
   "source": [
    "# create the new tables, for each ngram size. make sure that the ngram is represented as an array of unsigned ints\n",
    "table_create_query_format = 'CREATE OR REPLACE TABLE {table_name}(' \\\n",
    "                            '{ngram_field_decleration}, count UINTEGER, PRIMARY KEY({ngram_field_key}));'\n",
    "table_create_query_format"
   ]
  },
  {
   "cell_type": "code",
   "execution_count": 11,
   "id": "39086945",
   "metadata": {},
   "outputs": [],
   "source": [
    "for ngram_size in range(1, max_ngram_size + 1):\n",
    "    kwargs = {\n",
    "        'table_name': table_name_format.format(ngram_size=ngram_size),\n",
    "        'ngram_field_decleration': ', '.join(f'token_{i} UINTEGER' for i in range(1, ngram_size + 1)),\n",
    "        'ngram_field_key': ', '.join(f'token_{i}' for i in range(1, ngram_size + 1)),\n",
    "    }\n",
    "    table_create_query = table_create_query_format.format(**kwargs)\n",
    "    db_connection.execute(table_create_query)"
   ]
  },
  {
   "cell_type": "code",
   "execution_count": 31,
   "id": "5a5c764f",
   "metadata": {},
   "outputs": [
    {
     "data": {
      "text/plain": [
       "┌────────────────────────┐\n",
       "│          name          │\n",
       "│        varchar         │\n",
       "├────────────────────────┤\n",
       "│ ngram_counter          │\n",
       "│ ngram_counts_of_size_1 │\n",
       "│ ngram_counts_of_size_2 │\n",
       "│ ngram_counts_of_size_3 │\n",
       "│ ngram_counts_of_size_4 │\n",
       "│ ngram_counts_of_size_5 │\n",
       "└────────────────────────┘"
      ]
     },
     "execution_count": 31,
     "metadata": {},
     "output_type": "execute_result"
    }
   ],
   "source": [
    "db_connection.sql('SHOW TABLES;')"
   ]
  },
  {
   "cell_type": "code",
   "execution_count": 13,
   "id": "4992f1ad",
   "metadata": {},
   "outputs": [
    {
     "data": {
      "text/plain": [
       "┌──────────────────────┬────────┐\n",
       "│        ngram         │ count  │\n",
       "│       varchar        │ int32  │\n",
       "├──────────────────────┼────────┤\n",
       "│ 2788                 │   1260 │\n",
       "│ 1010                 │ 627689 │\n",
       "│ 2002                 │ 188278 │\n",
       "│ 2052                 │  35503 │\n",
       "│ 2022                 │  50430 │\n",
       "│ 13311                │    249 │\n",
       "│ 2105                 │  18310 │\n",
       "│ 1996                 │ 439426 │\n",
       "│ 2542                 │   2311 │\n",
       "│ 2282                 │  10507 │\n",
       "│  ·                   │      · │\n",
       "│  ·                   │      · │\n",
       "│  ·                   │      · │\n",
       "│ 2545,2788,3062,2046  │      1 │\n",
       "│ 2788,3062,2046,2048  │      1 │\n",
       "│ 3062,2046,2048,7236  │      1 │\n",
       "│ 2046,2048,7236,1011  │      1 │\n",
       "│ 2048,7236,1011,2216  │      1 │\n",
       "│ 7236,1011,2216,2040  │      1 │\n",
       "│ 1011,2216,2040,2020  │      1 │\n",
       "│ 2216,2040,2020,2145  │      1 │\n",
       "│ 2040,2020,2145,13879 │      1 │\n",
       "│ 2020,2145,13879,2011 │      1 │\n",
       "├──────────────────────┴────────┤\n",
       "│ ? rows (>9999 rows, 20 shown) │\n",
       "└───────────────────────────────┘"
      ]
     },
     "execution_count": 13,
     "metadata": {},
     "output_type": "execute_result"
    }
   ],
   "source": [
    "# iterate through the main table in batches, and after each batch, insert to the appropriate table\n",
    "main_table = 'ngram_counter'\n",
    "main_table_data = db_connection.sql(f'SELECT * FROM {main_table}')\n",
    "main_table_data"
   ]
  },
  {
   "cell_type": "code",
   "execution_count": 14,
   "id": "8d3aad56",
   "metadata": {},
   "outputs": [
    {
     "data": {
      "text/plain": [
       "'(1, 2, 3), (4, 5, 6)'"
      ]
     },
     "execution_count": 14,
     "metadata": {},
     "output_type": "execute_result"
    }
   ],
   "source": [
    "rows = [(1, 2, 3), (4, 5, 6)]\n",
    "', '.join(map(str, rows))"
   ]
  },
  {
   "cell_type": "code",
   "execution_count": 16,
   "id": "f940175b",
   "metadata": {},
   "outputs": [
    {
     "name": "stdout",
     "output_type": "stream",
     "text": [
      "processing batch 1...\n",
      "processing batch 2...\n",
      "processing batch 3...\n",
      "processing batch 4...\n",
      "processing batch 5...\n",
      "processing batch 6...\n",
      "processing batch 7...\n",
      "processing batch 8...\n",
      "processing batch 9...\n"
     ]
    }
   ],
   "source": [
    "batch_size = 100_000\n",
    "batch = main_table_data.fetchmany(batch_size)\n",
    "batch\n",
    "batch_i = 1\n",
    "while len(batch) > 0 and batch_i < 10:\n",
    "    print(f'processing batch {batch_i}...')\n",
    "    split_by_ngram_size = [[] for i in range(1, max_ngram_size + 1)]\n",
    "    \n",
    "    # go over the batch\n",
    "    for ngram_str, count in batch:\n",
    "        # convert the keys into tuples of integers\n",
    "        ngram = tuple(map(int, ngram_str.split(',')))\n",
    "        # split those according to the index\n",
    "        ngram_size = len(ngram)\n",
    "        row = ngram + (count, )\n",
    "        split_by_ngram_size[ngram_size - 1].append(row)\n",
    "        \n",
    "    # write to the appropriate table\n",
    "    for ngram_size, rows in enumerate(split_by_ngram_size, 1):\n",
    "        table_name = get_ngram_counts_of_size_table_name(ngram_size)\n",
    "        insert_query = f'INSERT INTO {table_name} VALUES {\", \".join(map(str, rows))};'\n",
    "        db_connection.execute(insert_query)\n",
    "        \n",
    "    batch = main_table_data.fetchmany(batch_size)\n",
    "    batch_i += 1"
   ]
  },
  {
   "cell_type": "code",
   "execution_count": 17,
   "id": "6ac390cc",
   "metadata": {},
   "outputs": [
    {
     "data": {
      "text/plain": [
       "┌─────────┬─────────┬─────────┬────────┐\n",
       "│ token_1 │ token_2 │ token_3 │ count  │\n",
       "│ uint32  │ uint32  │ uint32  │ uint32 │\n",
       "├─────────┼─────────┼─────────┼────────┤\n",
       "│    2748 │    1010 │    2009 │    190 │\n",
       "│    2009 │    2003 │    1012 │    626 │\n",
       "│    1056 │    2903 │    2009 │    173 │\n",
       "│    2903 │    2009 │    1012 │    154 │\n",
       "│    2002 │    4711 │    2039 │     10 │\n",
       "│    4711 │    2039 │    2010 │     17 │\n",
       "│    2398 │    1999 │    9135 │      9 │\n",
       "│    1999 │    9135 │    1012 │    131 │\n",
       "│    2215 │    2000 │    2903 │     38 │\n",
       "│    2000 │    2903 │    2505 │     12 │\n",
       "│      ·  │      ·  │      ·  │      · │\n",
       "│      ·  │      ·  │      ·  │      · │\n",
       "│      ·  │      ·  │      ·  │      · │\n",
       "│    2272 │    2000 │   10891 │      1 │\n",
       "│    2000 │   10891 │    2411 │      1 │\n",
       "│   10891 │    2411 │    1029 │      1 │\n",
       "│    2411 │    1029 │    1005 │     15 │\n",
       "│    1036 │    1037 │    3232 │     26 │\n",
       "│    3232 │    1997 │    2335 │    111 │\n",
       "│    1997 │    2335 │    1037 │      7 │\n",
       "│    2335 │    1037 │    2095 │     13 │\n",
       "│    1037 │    2095 │    1010 │     62 │\n",
       "│    2095 │    1010 │    3701 │      2 │\n",
       "├─────────┴─────────┴─────────┴────────┤\n",
       "│    ? rows (>9999 rows, 20 shown)     │\n",
       "└──────────────────────────────────────┘"
      ]
     },
     "execution_count": 17,
     "metadata": {},
     "output_type": "execute_result"
    }
   ],
   "source": [
    "# make sure that the tables look like I expect them to look \n",
    "ngram_table_of_size_3 = get_ngram_counts_of_size_table_name(3)\n",
    "db_connection.sql(f'SELECT * FROM {ngram_table_of_size_3}')"
   ]
  },
  {
   "cell_type": "code",
   "execution_count": 18,
   "id": "17980cbc",
   "metadata": {},
   "outputs": [
    {
     "data": {
      "text/plain": [
       "┌─────────┬─────────┬─────────┬─────────┬────────┐\n",
       "│ token_1 │ token_2 │ token_3 │ token_4 │ count  │\n",
       "│ uint32  │ uint32  │ uint32  │ uint32  │ uint32 │\n",
       "├─────────┼─────────┼─────────┼─────────┼────────┤\n",
       "│    1036 │    2748 │    1010 │    2009 │    108 │\n",
       "│    2748 │    1010 │    2009 │    2003 │     64 │\n",
       "│    1010 │    2009 │    2003 │    1012 │     77 │\n",
       "│    2009 │    2003 │    1012 │    1005 │    218 │\n",
       "│    1005 │    1056 │    2903 │    2009 │    173 │\n",
       "│    1056 │    2903 │    2009 │    1012 │     79 │\n",
       "│    2903 │    2009 │    1012 │    1005 │     25 │\n",
       "│    2002 │    4711 │    2039 │    2010 │      9 │\n",
       "│    4711 │    2039 │    2010 │    2398 │     13 │\n",
       "│    2010 │    2398 │    1999 │    9135 │      5 │\n",
       "│      ·  │      ·  │      ·  │      ·  │      · │\n",
       "│      ·  │      ·  │      ·  │      ·  │      · │\n",
       "│      ·  │      ·  │      ·  │      ·  │      · │\n",
       "│    2032 │    1999 │    1996 │    2690 │      8 │\n",
       "│    1996 │    2690 │    1997 │    8057 │      1 │\n",
       "│    2690 │    1997 │    8057 │    1041 │      1 │\n",
       "│    1997 │    8057 │    1041 │    1012 │      1 │\n",
       "│    1041 │    1012 │    8808 │    1012 │      1 │\n",
       "│    2175 │    2377 │    1010 │    1005 │      1 │\n",
       "│    2377 │    1010 │    1005 │    1005 │     11 │\n",
       "│    1005 │    1005 │    6701 │    2623 │      1 │\n",
       "│    1005 │    6701 │    2623 │    1010 │      1 │\n",
       "│    6701 │    2623 │    1010 │    5026 │      1 │\n",
       "├─────────┴─────────┴─────────┴─────────┴────────┤\n",
       "│ ? rows (>9999 rows, 20 shown)        5 columns │\n",
       "└────────────────────────────────────────────────┘"
      ]
     },
     "execution_count": 18,
     "metadata": {},
     "output_type": "execute_result"
    }
   ],
   "source": [
    "ngram_table_of_size_4 = get_ngram_counts_of_size_table_name(4)\n",
    "db_connection.sql(f'SELECT * FROM {ngram_table_of_size_4}')"
   ]
  },
  {
   "cell_type": "code",
   "execution_count": 19,
   "id": "51ae552d",
   "metadata": {},
   "outputs": [],
   "source": [
    "import math"
   ]
  },
  {
   "cell_type": "code",
   "execution_count": 21,
   "id": "feb0d358",
   "metadata": {},
   "outputs": [
    {
     "data": {
      "text/plain": [
       "┌─────────┬─────────────────────┐\n",
       "│ token_1 │   log_likelihood    │\n",
       "│ uint32  │       double        │\n",
       "├─────────┼─────────────────────┤\n",
       "│    3271 │   -8.49739056412006 │\n",
       "│    6594 │  -9.915560133770398 │\n",
       "│    8881 │  -9.091668842258686 │\n",
       "│   11633 │ -11.094215130112046 │\n",
       "│   10849 │  -9.446062705497255 │\n",
       "│   16095 │ -11.068239643708786 │\n",
       "│   10280 │ -11.364505459851959 │\n",
       "│    5810 │   -9.51415182635785 │\n",
       "│    6024 │  -9.860428063075684 │\n",
       "│   13523 │ -10.356044268178145 │\n",
       "│     ·   │           ·         │\n",
       "│     ·   │           ·         │\n",
       "│     ·   │           ·         │\n",
       "│   17951 │  -9.991226466844136 │\n",
       "│   23078 │ -11.030499315725937 │\n",
       "│   29115 │  -13.34550692871854 │\n",
       "│    4973 │ -12.246894640050431 │\n",
       "│   19886 │ -13.479038321343063 │\n",
       "│    7718 │ -11.068239643708786 │\n",
       "│   28607 │  -11.53312817228775 │\n",
       "│   28344 │ -13.633189001170322 │\n",
       "│   19319 │ -11.928440908931897 │\n",
       "│    9013 │  -10.65426384593271 │\n",
       "├─────────┴─────────────────────┤\n",
       "│     7484 rows (20 shown)      │\n",
       "└───────────────────────────────┘"
      ]
     },
     "execution_count": 21,
     "metadata": {},
     "output_type": "execute_result"
    }
   ],
   "source": [
    "# compute log likelihood\n",
    "# TODO: maybe I can add column and set the values with a single command?\n",
    "ngram_table_of_len_1 = get_ngram_counts_of_size_table_name(1)\n",
    "log_total_count = math.log(ngram_of_size_dict[1])\n",
    "compute_log_likelihood_query = f'SELECT token_1, ln(count) - {log_total_count} AS log_likelihood FROM {ngram_table_of_len_1}'\n",
    "log_likelihood_rel_1 = db_connection.sql(compute_log_likelihood_query)\n",
    "log_likelihood_rel_1"
   ]
  },
  {
   "cell_type": "code",
   "execution_count": 22,
   "id": "6186542d",
   "metadata": {},
   "outputs": [],
   "source": [
    "# TODO: maybe at the start of the table I want to add those columns? this will remove the need to add it afterwords.\n",
    "# TODO: maybe we will want to set the count to uint64\n",
    "def add_log_likelihood_to_table(ngram_size: int):\n",
    "    table_name = get_ngram_counts_of_size_table_name(ngram_size)\n",
    "    \n",
    "    add_col_to_table_query = f\"ALTER TABLE {table_name} ADD COLUMN log_likelihood DOUBLE;\"\n",
    "    db_connection.execute(add_col_to_table_query)\n",
    "    \n",
    "    log_total_count = math.log(ngram_of_size_dict[ngram_size])\n",
    "    update_table_query = f\"UPDATE {table_name} SET log_likelihood = ln(count) - {log_total_count};\"\n",
    "    db_connection.execute(update_table_query)"
   ]
  },
  {
   "cell_type": "code",
   "execution_count": 23,
   "id": "d19f7b3f",
   "metadata": {},
   "outputs": [
    {
     "data": {
      "text/plain": [
       "┌─────────┬────────┬─────────────────────┐\n",
       "│ token_1 │ count  │   log_likelihood    │\n",
       "│ uint32  │ uint32 │       double        │\n",
       "├─────────┼────────┼─────────────────────┤\n",
       "│    3271 │   1020 │   -8.49739056412006 │\n",
       "│    6594 │    247 │  -9.915560133770398 │\n",
       "│    8881 │    563 │  -9.091668842258686 │\n",
       "│   11633 │     76 │ -11.094215130112046 │\n",
       "│   10849 │    395 │  -9.446062705497255 │\n",
       "│   16095 │     78 │ -11.068239643708786 │\n",
       "│   10280 │     58 │ -11.364505459851959 │\n",
       "│    5810 │    369 │   -9.51415182635785 │\n",
       "│    6024 │    261 │  -9.860428063075684 │\n",
       "│   13523 │    159 │ -10.356044268178145 │\n",
       "│     ·   │     ·  │           ·         │\n",
       "│     ·   │     ·  │           ·         │\n",
       "│     ·   │     ·  │           ·         │\n",
       "│   17951 │    229 │  -9.991226466844136 │\n",
       "│   23078 │     81 │ -11.030499315725937 │\n",
       "│   29115 │      8 │  -13.34550692871854 │\n",
       "│    4973 │     24 │ -12.246894640050431 │\n",
       "│   19886 │      7 │ -13.479038321343063 │\n",
       "│    7718 │     78 │ -11.068239643708786 │\n",
       "│   28607 │     49 │  -11.53312817228775 │\n",
       "│   28344 │      6 │ -13.633189001170322 │\n",
       "│   19319 │     33 │ -11.928440908931897 │\n",
       "│    9013 │    118 │  -10.65426384593271 │\n",
       "├─────────┴────────┴─────────────────────┤\n",
       "│ 7484 rows (20 shown)         3 columns │\n",
       "└────────────────────────────────────────┘"
      ]
     },
     "execution_count": 23,
     "metadata": {},
     "output_type": "execute_result"
    }
   ],
   "source": [
    "add_log_likelihood_to_table(1)\n",
    "db_connection.sql(f'SELECT * FROM {get_ngram_counts_of_size_table_name(1)}')"
   ]
  },
  {
   "cell_type": "code",
   "execution_count": 25,
   "id": "a8710ae9",
   "metadata": {},
   "outputs": [],
   "source": [
    "for i in range(2, max_ngram_size + 1):\n",
    "    add_log_likelihood_to_table(i)"
   ]
  },
  {
   "cell_type": "code",
   "execution_count": 26,
   "id": "1c6ecac8",
   "metadata": {},
   "outputs": [
    {
     "data": {
      "text/plain": [
       "┌─────────┬─────────┬─────────┬────────┬─────────────────────┐\n",
       "│ token_1 │ token_2 │ token_3 │ count  │   log_likelihood    │\n",
       "│ uint32  │ uint32  │ uint32  │ uint32 │       double        │\n",
       "├─────────┼─────────┼─────────┼────────┼─────────────────────┤\n",
       "│    2748 │    1010 │    2009 │    190 │ -10.177924398237892 │\n",
       "│    2009 │    2003 │    1012 │    626 │   -8.98559809929828 │\n",
       "│    1056 │    2903 │    2009 │    173 │ -10.271656875900597 │\n",
       "│    2903 │    2009 │    1012 │    154 │ -10.387995867984747 │\n",
       "│    2002 │    4711 │    2039 │     10 │  -13.12236337740433 │\n",
       "│    4711 │    2039 │    2010 │     17 │ -12.591735126342162 │\n",
       "│    2398 │    1999 │    9135 │      9 │ -13.227723893062157 │\n",
       "│    1999 │    9135 │    1012 │    131 │ -10.549751147197226 │\n",
       "│    2215 │    2000 │    2903 │     38 │ -11.787362310671991 │\n",
       "│    2000 │    2903 │    2505 │     12 │ -12.940041820610377 │\n",
       "│      ·  │      ·  │      ·  │      · │          ·          │\n",
       "│      ·  │      ·  │      ·  │      · │          ·          │\n",
       "│      ·  │      ·  │      ·  │      · │          ·          │\n",
       "│    2272 │    2000 │   10891 │      1 │ -15.424948470398377 │\n",
       "│    2000 │   10891 │    2411 │      1 │ -15.424948470398377 │\n",
       "│   10891 │    2411 │    1029 │      1 │ -15.424948470398377 │\n",
       "│    2411 │    1029 │    1005 │     15 │ -12.716898269296166 │\n",
       "│    1036 │    1037 │    3232 │     26 │ -12.166851932376895 │\n",
       "│    3232 │    1997 │    2335 │    111 │ -10.715418269086044 │\n",
       "│    1997 │    2335 │    1037 │      7 │ -13.479038321343063 │\n",
       "│    2335 │    1037 │    2095 │     13 │  -12.85999911293684 │\n",
       "│    1037 │    2095 │    1010 │     62 │ -11.297814085353284 │\n",
       "│    2095 │    1010 │    3701 │      2 │ -14.731801289838431 │\n",
       "├─────────┴─────────┴─────────┴────────┴─────────────────────┤\n",
       "│ ? rows (>9999 rows, 20 shown)                    5 columns │\n",
       "└────────────────────────────────────────────────────────────┘"
      ]
     },
     "execution_count": 26,
     "metadata": {},
     "output_type": "execute_result"
    }
   ],
   "source": [
    "db_connection.sql(f'SELECT * FROM {get_ngram_counts_of_size_table_name(3)}')"
   ]
  },
  {
   "cell_type": "code",
   "execution_count": 27,
   "id": "ef114e9e",
   "metadata": {},
   "outputs": [],
   "source": [
    "# compute the dynamic programming term into a new column\n",
    "# I want to do that with batches, maybe using pyarrow tables or numpy, and then update.\n",
    "# lets write the computation with SQL explicitly for ngram_size=1,2,3. then generalize it."
   ]
  },
  {
   "cell_type": "code",
   "execution_count": null,
   "id": "acbd45ac",
   "metadata": {},
   "outputs": [],
   "source": [
    "# Pardon the terible name :( \n",
    "new_col_name = 'max_sum_segmentations_log_likelihood'"
   ]
  },
  {
   "cell_type": "code",
   "execution_count": 28,
   "id": "232bf610",
   "metadata": {},
   "outputs": [
    {
     "data": {
      "text/plain": [
       "┌─────────┬────────┬─────────────────────┬──────────────────────────────────────┐\n",
       "│ token_1 │ count  │   log_likelihood    │ max_sum_segmentations_log_likelihood │\n",
       "│ uint32  │ uint32 │       double        │                double                │\n",
       "├─────────┼────────┼─────────────────────┼──────────────────────────────────────┤\n",
       "│    3271 │   1020 │   -8.49739056412006 │                    -8.49739056412006 │\n",
       "│    6594 │    247 │  -9.915560133770398 │                   -9.915560133770398 │\n",
       "│    8881 │    563 │  -9.091668842258686 │                   -9.091668842258686 │\n",
       "│   11633 │     76 │ -11.094215130112046 │                  -11.094215130112046 │\n",
       "│   10849 │    395 │  -9.446062705497255 │                   -9.446062705497255 │\n",
       "│   16095 │     78 │ -11.068239643708786 │                  -11.068239643708786 │\n",
       "│   10280 │     58 │ -11.364505459851959 │                  -11.364505459851959 │\n",
       "│    5810 │    369 │   -9.51415182635785 │                    -9.51415182635785 │\n",
       "│    6024 │    261 │  -9.860428063075684 │                   -9.860428063075684 │\n",
       "│   13523 │    159 │ -10.356044268178145 │                  -10.356044268178145 │\n",
       "│     ·   │     ·  │           ·         │                            ·         │\n",
       "│     ·   │     ·  │           ·         │                            ·         │\n",
       "│     ·   │     ·  │           ·         │                            ·         │\n",
       "│   17951 │    229 │  -9.991226466844136 │                   -9.991226466844136 │\n",
       "│   23078 │     81 │ -11.030499315725937 │                  -11.030499315725937 │\n",
       "│   29115 │      8 │  -13.34550692871854 │                   -13.34550692871854 │\n",
       "│    4973 │     24 │ -12.246894640050431 │                  -12.246894640050431 │\n",
       "│   19886 │      7 │ -13.479038321343063 │                  -13.479038321343063 │\n",
       "│    7718 │     78 │ -11.068239643708786 │                  -11.068239643708786 │\n",
       "│   28607 │     49 │  -11.53312817228775 │                   -11.53312817228775 │\n",
       "│   28344 │      6 │ -13.633189001170322 │                  -13.633189001170322 │\n",
       "│   19319 │     33 │ -11.928440908931897 │                  -11.928440908931897 │\n",
       "│    9013 │    118 │  -10.65426384593271 │                   -10.65426384593271 │\n",
       "├─────────┴────────┴─────────────────────┴──────────────────────────────────────┤\n",
       "│ 7484 rows (20 shown)                                                4 columns │\n",
       "└───────────────────────────────────────────────────────────────────────────────┘"
      ]
     },
     "execution_count": 28,
     "metadata": {},
     "output_type": "execute_result"
    }
   ],
   "source": [
    "# ngram_size = 1\n",
    "table_name = get_ngram_counts_of_size_table_name(1)\n",
    "add_col_to_table_query = f\"ALTER TABLE {table_name} ADD COLUMN {new_col_name} DOUBLE;\"\n",
    "db_connection.execute(add_col_to_table_query)\n",
    "\n",
    "update_table_query = f\"UPDATE {table_name} SET {new_col_name} = log_likelihood;\"\n",
    "db_connection.execute(update_table_query)\n",
    "\n",
    "db_connection.sql(f\"SELECT * FROM {table_name}\")"
   ]
  },
  {
   "cell_type": "code",
   "execution_count": 29,
   "id": "37cc7f65",
   "metadata": {},
   "outputs": [
    {
     "data": {
      "text/plain": [
       "<duckdb.DuckDBPyConnection at 0x21fac4240b0>"
      ]
     },
     "execution_count": 29,
     "metadata": {},
     "output_type": "execute_result"
    }
   ],
   "source": [
    "# ngram_size = 2\n",
    "# TODO: maybe give this some default value so I can take the maximal value every time, without having to create a specieal\n",
    "#  initail stage\n",
    "table_name = get_ngram_counts_of_size_table_name(2)\n",
    "add_col_to_table_query = f\"ALTER TABLE {table_name} ADD COLUMN {new_col_name} DOUBLE;\"\n",
    "db_connection.execute(add_col_to_table_query)"
   ]
  },
  {
   "cell_type": "code",
   "execution_count": 46,
   "id": "0cc1dfaa",
   "metadata": {},
   "outputs": [
    {
     "data": {
      "text/plain": [
       "┌──────────────────────────────────────┐\n",
       "│ max_sum_segmentations_log_likelihood │\n",
       "│                double                │\n",
       "├──────────────────────────────────────┤\n",
       "│                   -16.99478112824012 │\n",
       "│                  -19.831120267540797 │\n",
       "│                  -18.183337684517372 │\n",
       "│                   -22.18843026022409 │\n",
       "│                   -18.89212541099451 │\n",
       "│                  -22.136479287417572 │\n",
       "│                  -22.729010919703917 │\n",
       "│                    -19.0283036527157 │\n",
       "│                  -19.720856126151368 │\n",
       "│                   -20.71208853635629 │\n",
       "│                            ·         │\n",
       "│                            ·         │\n",
       "│                            ·         │\n",
       "│                  -18.070812915946615 │\n",
       "│                   -21.43775923552596 │\n",
       "│                   -18.72857640813465 │\n",
       "│                   -19.17152483625742 │\n",
       "│                  -19.819015298167063 │\n",
       "│                  -19.558216829857656 │\n",
       "│                   -21.42816176454091 │\n",
       "│                  -21.770576831258975 │\n",
       "│                  -20.594204419793343 │\n",
       "│                  -23.103596278565313 │\n",
       "├──────────────────────────────────────┤\n",
       "│    ? rows (>9999 rows, 20 shown)     │\n",
       "└──────────────────────────────────────┘"
      ]
     },
     "execution_count": 46,
     "metadata": {},
     "output_type": "execute_result"
    }
   ],
   "source": [
    "# select the new_col_name of the first and second token that match the original table\n",
    "# TODO: something with my joins is not right. I need to fix this. I don't have the same number of columns. \n",
    "table_1 = get_ngram_counts_of_size_table_name(1)\n",
    "table_2 = get_ngram_counts_of_size_table_name(2)\n",
    "query1 = f\"\"\"\n",
    "SELECT {table_1}.{new_col_name} AS {new_col_name}_1\n",
    "    FROM {table_2} JOIN {table_1} ON ({table_2}.token_1 = {table_1}.token_1)\n",
    "\"\"\"\n",
    "query2 = f\"\"\"\n",
    "SELECT {table_1}.{new_col_name} AS {new_col_name}_2\n",
    "    FROM {table_2} JOIN {table_1} ON ({table_2}.token_2 = {table_1}.token_1)\n",
    "\"\"\"\n",
    "query3 = f\"\"\"\n",
    "SELECT {new_col_name}_1 + {new_col_name}_2 AS {new_col_name}\n",
    "    FROM ({query1}) POSITIONAL JOIN ({query2})\n",
    "\"\"\"\n",
    "rel = db_connection.sql(query3)\n",
    "rel"
   ]
  },
  {
   "cell_type": "code",
   "execution_count": 47,
   "id": "45526bef",
   "metadata": {},
   "outputs": [
    {
     "data": {
      "text/plain": [
       "24709"
      ]
     },
     "execution_count": 47,
     "metadata": {},
     "output_type": "execute_result"
    }
   ],
   "source": [
    "len(rel)"
   ]
  },
  {
   "cell_type": "code",
   "execution_count": 48,
   "id": "dd3aafbc",
   "metadata": {},
   "outputs": [
    {
     "data": {
      "text/plain": [
       "┌─────────┬─────────┬────────┬─────────────────────┬──────────────────────────────────────┐\n",
       "│ token_1 │ token_2 │ count  │   log_likelihood    │ max_sum_segmentations_log_likelihood │\n",
       "│ uint32  │ uint32  │ uint32 │       double        │                double                │\n",
       "├─────────┼─────────┼────────┼─────────────────────┼──────────────────────────────────────┤\n",
       "│    2903 │    2009 │    408 │  -9.413681295994216 │                                 NULL │\n",
       "│    1999 │    9135 │    188 │ -10.188506507568427 │                                 NULL │\n",
       "│    2903 │    2505 │     31 │ -11.990961265913231 │                                 NULL │\n",
       "│    2505 │    8764 │      1 │ -15.424948470398377 │                                 NULL │\n",
       "│    8764 │    2056 │    102 │ -10.799975657114107 │                                 NULL │\n",
       "│    2926 │    2008 │      8 │  -13.34550692871854 │                                 NULL │\n",
       "│    2001 │    2017 │    117 │  -10.66277453560062 │                                 NULL │\n",
       "│    2017 │    2040 │     68 │  -11.20544076522227 │                                 NULL │\n",
       "│    2040 │    3271 │     22 │  -12.33390601704006 │                                 NULL │\n",
       "│    3271 │    2014 │    180 │ -10.231991619508166 │                                 NULL │\n",
       "│      ·  │      ·  │      · │          ·          │                                   ·  │\n",
       "│      ·  │      ·  │      · │          ·          │                                   ·  │\n",
       "│      ·  │      ·  │      · │          ·          │                                   ·  │\n",
       "│    2018 │   12176 │     14 │ -12.785891140783118 │                                 NULL │\n",
       "│   12176 │    2010 │      8 │  -13.34550692871854 │                                 NULL │\n",
       "│    2010 │    8710 │      8 │  -13.34550692871854 │                                 NULL │\n",
       "│    8710 │    2044 │      1 │ -15.424948470398377 │                                 NULL │\n",
       "│    2044 │   16475 │      3 │ -14.326336181730268 │                                 NULL │\n",
       "│    1055 │    8595 │      3 │ -14.326336181730268 │                                 NULL │\n",
       "│    3663 │    1010 │    180 │ -10.231991619508166 │                                 NULL │\n",
       "│    2467 │    3201 │     12 │ -12.940041820610377 │                                 NULL │\n",
       "│   18302 │   10506 │      1 │ -15.424948470398377 │                                 NULL │\n",
       "│   10506 │    5669 │     34 │ -11.898587945782214 │                                 NULL │\n",
       "├─────────┴─────────┴────────┴─────────────────────┴──────────────────────────────────────┤\n",
       "│ ? rows (>9999 rows, 20 shown)                                                 5 columns │\n",
       "└─────────────────────────────────────────────────────────────────────────────────────────┘"
      ]
     },
     "execution_count": 48,
     "metadata": {},
     "output_type": "execute_result"
    }
   ],
   "source": [
    "rel = db_connection.sql(f\"SELECT * FROM {table_2}\")\n",
    "rel"
   ]
  },
  {
   "cell_type": "code",
   "execution_count": 49,
   "id": "3bd32303",
   "metadata": {},
   "outputs": [
    {
     "data": {
      "text/plain": [
       "96333"
      ]
     },
     "execution_count": 49,
     "metadata": {},
     "output_type": "execute_result"
    }
   ],
   "source": [
    "len(rel)"
   ]
  },
  {
   "cell_type": "code",
   "execution_count": 45,
   "id": "9c738209",
   "metadata": {},
   "outputs": [
    {
     "data": {
      "application/vnd.jupyter.widget-view+json": {
       "model_id": "b5aca88c936b494aa2a2fd6d5c013e65",
       "version_major": 2,
       "version_minor": 0
      },
      "text/plain": [
       "FloatProgress(value=0.0, layout=Layout(width='100%'), style=ProgressStyle(bar_color='black'))"
      ]
     },
     "metadata": {},
     "output_type": "display_data"
    },
    {
     "data": {
      "text/plain": [
       "┌─────────┬─────────┬────────┬─────────────────────┬──────────────────────────────────────┐\n",
       "│ token_1 │ token_2 │ count  │   log_likelihood    │ max_sum_segmentations_log_likelihood │\n",
       "│ uint32  │ uint32  │ uint32 │       double        │                double                │\n",
       "├─────────┼─────────┼────────┼─────────────────────┼──────────────────────────────────────┤\n",
       "│    2903 │    2009 │    408 │  -9.413681295994216 │                                 NULL │\n",
       "│    1999 │    9135 │    188 │ -10.188506507568427 │                                 NULL │\n",
       "│    2903 │    2505 │     31 │ -11.990961265913231 │                                 NULL │\n",
       "│    2505 │    8764 │      1 │ -15.424948470398377 │                                 NULL │\n",
       "│    8764 │    2056 │    102 │ -10.799975657114107 │                                 NULL │\n",
       "│    2926 │    2008 │      8 │  -13.34550692871854 │                                 NULL │\n",
       "│    2001 │    2017 │    117 │  -10.66277453560062 │                                 NULL │\n",
       "│    2017 │    2040 │     68 │  -11.20544076522227 │                                 NULL │\n",
       "│    2040 │    3271 │     22 │  -12.33390601704006 │                                 NULL │\n",
       "│    3271 │    2014 │    180 │ -10.231991619508166 │                                 NULL │\n",
       "│      ·  │      ·  │      · │          ·          │                                   ·  │\n",
       "│      ·  │      ·  │      · │          ·          │                                   ·  │\n",
       "│      ·  │      ·  │      · │          ·          │                                   ·  │\n",
       "│    2018 │   12176 │     14 │ -12.785891140783118 │                                 NULL │\n",
       "│   12176 │    2010 │      8 │  -13.34550692871854 │                                 NULL │\n",
       "│    2010 │    8710 │      8 │  -13.34550692871854 │                                 NULL │\n",
       "│    8710 │    2044 │      1 │ -15.424948470398377 │                                 NULL │\n",
       "│    2044 │   16475 │      3 │ -14.326336181730268 │                                 NULL │\n",
       "│    1055 │    8595 │      3 │ -14.326336181730268 │                                 NULL │\n",
       "│    3663 │    1010 │    180 │ -10.231991619508166 │                                 NULL │\n",
       "│    2467 │    3201 │     12 │ -12.940041820610377 │                                 NULL │\n",
       "│   18302 │   10506 │      1 │ -15.424948470398377 │                                 NULL │\n",
       "│   10506 │    5669 │     34 │ -11.898587945782214 │                                 NULL │\n",
       "├─────────┴─────────┴────────┴─────────────────────┴──────────────────────────────────────┤\n",
       "│ ? rows (>9999 rows, 20 shown)                                                 5 columns │\n",
       "└─────────────────────────────────────────────────────────────────────────────────────────┘"
      ]
     },
     "execution_count": 45,
     "metadata": {},
     "output_type": "execute_result"
    }
   ],
   "source": [
    "# now, update the table from those values\n",
    "# TODO: maybe consider not saving intermidiate results by using views. will it make things more efficient?\n",
    "#    in the docs, it is mentioned that a view will be re-computed every time that it is mentioned. \n",
    "# TODO: I will probably want to set a default value so that \n",
    "update_table_2_query = f\"\"\"\n",
    "UPDATE {table_2} \n",
    "SET {new_col_name} = x.{new_col_name}\n",
    "FROM ({query3}) AS x\n",
    "\"\"\"\n",
    "db_connection.execute(update_table_2_query)\n",
    "db_connection.sql(f\"SELECT * FROM {table_2}\")"
   ]
  },
  {
   "cell_type": "code",
   "execution_count": null,
   "id": "34f584df",
   "metadata": {},
   "outputs": [],
   "source": [
    "update_table_query = f\"UPDATE {table_name} SET {new_col_name} = log_likelihood;\"\n",
    "db_connection.execute(update_table_query)\n",
    "db_connection.sql(f\"SELECT * FROM {table_name}\")"
   ]
  },
  {
   "cell_type": "code",
   "execution_count": 66,
   "id": "076bd4e4",
   "metadata": {},
   "outputs": [
    {
     "data": {
      "text/plain": [
       "┌─────────┬───────┐\n",
       "│ token_1 │   x   │\n",
       "│  int64  │ int64 │\n",
       "├─────────┼───────┤\n",
       "│       1 │     1 │\n",
       "│       2 │     2 │\n",
       "│       3 │     3 │\n",
       "└─────────┴───────┘"
      ]
     },
     "execution_count": 66,
     "metadata": {},
     "output_type": "execute_result"
    }
   ],
   "source": [
    "# play with some example data. I want to simulate the case for 2-ngrams pmi score computation\n",
    "import pyarrow as pa\n",
    "table1 = {\n",
    "    'token_1': [1, 2, 3],\n",
    "    'x':   [1, 2, 3]\n",
    "}\n",
    "table1 = pa.Table.from_pydict(table1)\n",
    "db_connection.sql(\"SELECT * FROM table1\")"
   ]
  },
  {
   "cell_type": "code",
   "execution_count": 67,
   "id": "34307ca3",
   "metadata": {},
   "outputs": [
    {
     "data": {
      "text/plain": [
       "┌─────────┬─────────┬───────┐\n",
       "│ token_1 │ token_2 │   x   │\n",
       "│  int64  │  int64  │ int64 │\n",
       "├─────────┼─────────┼───────┤\n",
       "│       1 │       1 │     0 │\n",
       "│       1 │       2 │     0 │\n",
       "│       1 │       3 │     0 │\n",
       "│       2 │       1 │     0 │\n",
       "│       3 │       2 │     0 │\n",
       "│       3 │       1 │     0 │\n",
       "└─────────┴─────────┴───────┘"
      ]
     },
     "execution_count": 67,
     "metadata": {},
     "output_type": "execute_result"
    }
   ],
   "source": [
    "table2 = {\n",
    "    'token_1': [1, 1, 1, 2, 3, 3],\n",
    "    'token_2': [1, 2, 3, 1, 2, 1],\n",
    "    'x':       [0, 0, 0, 0, 0, 0]\n",
    "}\n",
    "table2 = pa.Table.from_pydict(table2)\n",
    "db_connection.sql(\"SELECT * FROM table2\")"
   ]
  },
  {
   "cell_type": "code",
   "execution_count": 72,
   "id": "e60aaffd",
   "metadata": {},
   "outputs": [
    {
     "data": {
      "text/plain": [
       "┌────────┐\n",
       "│ sumsum │\n",
       "│ int64  │\n",
       "├────────┤\n",
       "│      2 │\n",
       "│      3 │\n",
       "│      4 │\n",
       "│      3 │\n",
       "│      5 │\n",
       "│      4 │\n",
       "└────────┘"
      ]
     },
     "execution_count": 72,
     "metadata": {},
     "output_type": "execute_result"
    }
   ],
   "source": [
    "# I want to create a new table with an sql query, where there will be the sum of the counts from the first and second token.\n",
    "query1 = f\"\"\"\n",
    "SELECT table1.x AS a\n",
    "FROM table2 JOIN table1 ON table2.token_1 = table1.token_1\n",
    "\"\"\"\n",
    "query2 = f\"\"\"\n",
    "SELECT table1.x AS b\n",
    "FROM table2 JOIN table1 ON table2.token_2 = table1.token_1\n",
    "\"\"\"\n",
    "query3 = f\"\"\"\n",
    "SELECT a + b as sumsum FROM ({query1}) POSITIONAL JOIN ({query2})\n",
    "\"\"\"\n",
    "db_connection.sql(query3)"
   ]
  },
  {
   "cell_type": "code",
   "execution_count": null,
   "id": "17b3abdc",
   "metadata": {},
   "outputs": [],
   "source": [
    "# TODO: table3 = ...\n",
    "# ngram_of_size_count = {\n",
    "#     1: pa.compute.sum(table1['count']),\n",
    "#     2: pa.compute.sum(table2['count'])\n",
    "# }"
   ]
  },
  {
   "cell_type": "code",
   "execution_count": null,
   "id": "3b8226c3",
   "metadata": {},
   "outputs": [],
   "source": [
    "# compute pmi scores into a new column"
   ]
  }
 ],
 "metadata": {
  "kernelspec": {
   "display_name": "pmi_masking",
   "language": "python",
   "name": "pmi_masking"
  },
  "language_info": {
   "codemirror_mode": {
    "name": "ipython",
    "version": 3
   },
   "file_extension": ".py",
   "mimetype": "text/x-python",
   "name": "python",
   "nbconvert_exporter": "python",
   "pygments_lexer": "ipython3",
   "version": "3.10.10"
  }
 },
 "nbformat": 4,
 "nbformat_minor": 5
}
