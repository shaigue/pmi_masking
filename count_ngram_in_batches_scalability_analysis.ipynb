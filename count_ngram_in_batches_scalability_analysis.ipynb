{
 "cells": [
  {
   "cell_type": "code",
   "execution_count": 1,
   "id": "455c4376",
   "metadata": {},
   "outputs": [],
   "source": [
    "from pathlib import Path"
   ]
  },
  {
   "cell_type": "code",
   "execution_count": 2,
   "id": "e5bb5cd2",
   "metadata": {},
   "outputs": [],
   "source": [
    "# experiment parameters\n",
    "ngram_count_batch_size = 1_000_000\n",
    "n_samples = 20_000_000\n",
    "n_workers = 3\n",
    "max_ngram_size = 5\n",
    "filter_ngram_count_threshold = 2\n",
    "save_dir = Path('./data')"
   ]
  },
  {
   "cell_type": "code",
   "execution_count": 4,
   "id": "adbfeaec",
   "metadata": {},
   "outputs": [
    {
     "data": {
      "text/plain": [
       "[WindowsPath('data/1/count_table_0-999999.parquet'),\n",
       " WindowsPath('data/1/count_table_1000000-1999999.parquet'),\n",
       " WindowsPath('data/1/count_table_10666667-11666666.parquet'),\n",
       " WindowsPath('data/1/count_table_11666667-12666666.parquet'),\n",
       " WindowsPath('data/1/count_table_12666667-13333333.parquet'),\n",
       " WindowsPath('data/1/count_table_13333334-14333333.parquet'),\n",
       " WindowsPath('data/1/count_table_14333334-15333333.parquet'),\n",
       " WindowsPath('data/1/count_table_15333334-16333333.parquet'),\n",
       " WindowsPath('data/1/count_table_16333334-17333333.parquet'),\n",
       " WindowsPath('data/1/count_table_17333334-18333333.parquet'),\n",
       " WindowsPath('data/1/count_table_18333334-19333333.parquet'),\n",
       " WindowsPath('data/1/count_table_19333334-19999999.parquet'),\n",
       " WindowsPath('data/1/count_table_2000000-2999999.parquet'),\n",
       " WindowsPath('data/1/count_table_3000000-3999999.parquet'),\n",
       " WindowsPath('data/1/count_table_4000000-4999999.parquet'),\n",
       " WindowsPath('data/1/count_table_5000000-5999999.parquet'),\n",
       " WindowsPath('data/1/count_table_6000000-6666666.parquet'),\n",
       " WindowsPath('data/1/count_table_6666667-7666666.parquet'),\n",
       " WindowsPath('data/1/count_table_7666667-8666666.parquet'),\n",
       " WindowsPath('data/1/count_table_8666667-9666666.parquet'),\n",
       " WindowsPath('data/1/count_table_9666667-10666666.parquet'),\n",
       " WindowsPath('data/2/count_table_0-999999.parquet'),\n",
       " WindowsPath('data/2/count_table_1000000-1999999.parquet'),\n",
       " WindowsPath('data/2/count_table_10666667-11666666.parquet'),\n",
       " WindowsPath('data/2/count_table_11666667-12666666.parquet'),\n",
       " WindowsPath('data/2/count_table_12666667-13333333.parquet'),\n",
       " WindowsPath('data/2/count_table_13333334-14333333.parquet'),\n",
       " WindowsPath('data/2/count_table_14333334-15333333.parquet'),\n",
       " WindowsPath('data/2/count_table_15333334-16333333.parquet'),\n",
       " WindowsPath('data/2/count_table_16333334-17333333.parquet'),\n",
       " WindowsPath('data/2/count_table_17333334-18333333.parquet'),\n",
       " WindowsPath('data/2/count_table_18333334-19333333.parquet'),\n",
       " WindowsPath('data/2/count_table_19333334-19999999.parquet'),\n",
       " WindowsPath('data/2/count_table_2000000-2999999.parquet'),\n",
       " WindowsPath('data/2/count_table_3000000-3999999.parquet'),\n",
       " WindowsPath('data/2/count_table_4000000-4999999.parquet'),\n",
       " WindowsPath('data/2/count_table_5000000-5999999.parquet'),\n",
       " WindowsPath('data/2/count_table_6000000-6666666.parquet'),\n",
       " WindowsPath('data/2/count_table_6666667-7666666.parquet'),\n",
       " WindowsPath('data/2/count_table_7666667-8666666.parquet'),\n",
       " WindowsPath('data/2/count_table_8666667-9666666.parquet'),\n",
       " WindowsPath('data/2/count_table_9666667-10666666.parquet'),\n",
       " WindowsPath('data/3/count_table_0-999999.parquet'),\n",
       " WindowsPath('data/3/count_table_1000000-1999999.parquet'),\n",
       " WindowsPath('data/3/count_table_10666667-11666666.parquet'),\n",
       " WindowsPath('data/3/count_table_11666667-12666666.parquet'),\n",
       " WindowsPath('data/3/count_table_12666667-13333333.parquet'),\n",
       " WindowsPath('data/3/count_table_13333334-14333333.parquet'),\n",
       " WindowsPath('data/3/count_table_14333334-15333333.parquet'),\n",
       " WindowsPath('data/3/count_table_15333334-16333333.parquet'),\n",
       " WindowsPath('data/3/count_table_16333334-17333333.parquet'),\n",
       " WindowsPath('data/3/count_table_17333334-18333333.parquet'),\n",
       " WindowsPath('data/3/count_table_18333334-19333333.parquet'),\n",
       " WindowsPath('data/3/count_table_19333334-19999999.parquet'),\n",
       " WindowsPath('data/3/count_table_2000000-2999999.parquet'),\n",
       " WindowsPath('data/3/count_table_3000000-3999999.parquet'),\n",
       " WindowsPath('data/3/count_table_4000000-4999999.parquet'),\n",
       " WindowsPath('data/3/count_table_5000000-5999999.parquet'),\n",
       " WindowsPath('data/3/count_table_6000000-6666666.parquet'),\n",
       " WindowsPath('data/3/count_table_6666667-7666666.parquet'),\n",
       " WindowsPath('data/3/count_table_7666667-8666666.parquet'),\n",
       " WindowsPath('data/3/count_table_8666667-9666666.parquet'),\n",
       " WindowsPath('data/3/count_table_9666667-10666666.parquet'),\n",
       " WindowsPath('data/4/count_table_0-999999.parquet'),\n",
       " WindowsPath('data/4/count_table_1000000-1999999.parquet'),\n",
       " WindowsPath('data/4/count_table_10666667-11666666.parquet'),\n",
       " WindowsPath('data/4/count_table_11666667-12666666.parquet'),\n",
       " WindowsPath('data/4/count_table_12666667-13333333.parquet'),\n",
       " WindowsPath('data/4/count_table_13333334-14333333.parquet'),\n",
       " WindowsPath('data/4/count_table_14333334-15333333.parquet'),\n",
       " WindowsPath('data/4/count_table_15333334-16333333.parquet'),\n",
       " WindowsPath('data/4/count_table_16333334-17333333.parquet'),\n",
       " WindowsPath('data/4/count_table_17333334-18333333.parquet'),\n",
       " WindowsPath('data/4/count_table_18333334-19333333.parquet'),\n",
       " WindowsPath('data/4/count_table_19333334-19999999.parquet'),\n",
       " WindowsPath('data/4/count_table_2000000-2999999.parquet'),\n",
       " WindowsPath('data/4/count_table_3000000-3999999.parquet'),\n",
       " WindowsPath('data/4/count_table_4000000-4999999.parquet'),\n",
       " WindowsPath('data/4/count_table_5000000-5999999.parquet'),\n",
       " WindowsPath('data/4/count_table_6000000-6666666.parquet'),\n",
       " WindowsPath('data/4/count_table_6666667-7666666.parquet'),\n",
       " WindowsPath('data/4/count_table_7666667-8666666.parquet'),\n",
       " WindowsPath('data/4/count_table_8666667-9666666.parquet'),\n",
       " WindowsPath('data/4/count_table_9666667-10666666.parquet'),\n",
       " WindowsPath('data/5/count_table_0-999999.parquet'),\n",
       " WindowsPath('data/5/count_table_1000000-1999999.parquet'),\n",
       " WindowsPath('data/5/count_table_10666667-11666666.parquet'),\n",
       " WindowsPath('data/5/count_table_11666667-12666666.parquet'),\n",
       " WindowsPath('data/5/count_table_12666667-13333333.parquet'),\n",
       " WindowsPath('data/5/count_table_13333334-14333333.parquet'),\n",
       " WindowsPath('data/5/count_table_14333334-15333333.parquet'),\n",
       " WindowsPath('data/5/count_table_15333334-16333333.parquet'),\n",
       " WindowsPath('data/5/count_table_16333334-17333333.parquet'),\n",
       " WindowsPath('data/5/count_table_17333334-18333333.parquet'),\n",
       " WindowsPath('data/5/count_table_18333334-19333333.parquet'),\n",
       " WindowsPath('data/5/count_table_19333334-19999999.parquet'),\n",
       " WindowsPath('data/5/count_table_2000000-2999999.parquet'),\n",
       " WindowsPath('data/5/count_table_3000000-3999999.parquet'),\n",
       " WindowsPath('data/5/count_table_4000000-4999999.parquet'),\n",
       " WindowsPath('data/5/count_table_5000000-5999999.parquet'),\n",
       " WindowsPath('data/5/count_table_6000000-6666666.parquet'),\n",
       " WindowsPath('data/5/count_table_6666667-7666666.parquet'),\n",
       " WindowsPath('data/5/count_table_7666667-8666666.parquet'),\n",
       " WindowsPath('data/5/count_table_8666667-9666666.parquet'),\n",
       " WindowsPath('data/5/count_table_9666667-10666666.parquet')]"
      ]
     },
     "execution_count": 4,
     "metadata": {},
     "output_type": "execute_result"
    }
   ],
   "source": [
    "# analyze space requirements\n",
    "generated_files = list(save_dir.rglob('*.parquet'))\n",
    "generated_files"
   ]
  },
  {
   "cell_type": "code",
   "execution_count": 18,
   "id": "7a9a42af",
   "metadata": {},
   "outputs": [
    {
     "data": {
      "text/plain": [
       "294998949"
      ]
     },
     "execution_count": 18,
     "metadata": {},
     "output_type": "execute_result"
    }
   ],
   "source": [
    "# find the number of tokens processed\n",
    "import json\n",
    "total_ngram_per_size_file = next(iter(save_dir.rglob('*.json')))\n",
    "with total_ngram_per_size_file.open('r') as f:\n",
    "    total_ngram_per_size = json.load(f)\n",
    "total_ngram_per_size\n",
    "n_tokens_processed = total_ngram_per_size['1']\n",
    "n_tokens_processed"
   ]
  },
  {
   "cell_type": "code",
   "execution_count": 8,
   "id": "0820ae4a",
   "metadata": {},
   "outputs": [],
   "source": [
    "def get_file_size(file: Path) -> int:\n",
    "    return file.stat().st_size"
   ]
  },
  {
   "cell_type": "code",
   "execution_count": 9,
   "id": "ebef963e",
   "metadata": {},
   "outputs": [
    {
     "data": {
      "text/plain": [
       "165535"
      ]
     },
     "execution_count": 9,
     "metadata": {},
     "output_type": "execute_result"
    }
   ],
   "source": [
    "example_file = generated_files[0]\n",
    "get_file_size(example_file)"
   ]
  },
  {
   "cell_type": "code",
   "execution_count": 10,
   "id": "80d059e6",
   "metadata": {},
   "outputs": [
    {
     "data": {
      "text/plain": [
       "481565693"
      ]
     },
     "execution_count": 10,
     "metadata": {},
     "output_type": "execute_result"
    }
   ],
   "source": [
    "total_parquet_file_size_in_bytes = sum(map(get_file_size, generated_files))\n",
    "total_parquet_file_size_in_bytes"
   ]
  },
  {
   "cell_type": "code",
   "execution_count": 20,
   "id": "3ccf9271",
   "metadata": {},
   "outputs": [
    {
     "name": "stdout",
     "output_type": "stream",
     "text": [
      "parquet files total size: 459 MB\n"
     ]
    }
   ],
   "source": [
    "total_parquet_file_size_in_mb = total_parquet_file_size_in_bytes // (2 ** 20)\n",
    "print(f'parquet files total size: {total_parquet_file_size_in_mb} MB')"
   ]
  },
  {
   "cell_type": "code",
   "execution_count": 21,
   "id": "0526231d",
   "metadata": {},
   "outputs": [
    {
     "name": "stdout",
     "output_type": "stream",
     "text": [
      "tokens processed: 294,998,949\n"
     ]
    }
   ],
   "source": [
    "print(f'tokens processed: {n_tokens_processed:,}')"
   ]
  },
  {
   "cell_type": "code",
   "execution_count": 22,
   "id": "2241a802",
   "metadata": {},
   "outputs": [],
   "source": [
    "# assuming linear growth in the number of tokens processed, which should be approximatlty correct:\n",
    "n_tokens_wikipedia =     24_000_000_000  # 24 Billion\n",
    "n_tokens_red_pijama = 1_200_000_000_000  # 1.2 Trillion"
   ]
  },
  {
   "cell_type": "code",
   "execution_count": 24,
   "id": "b1bb583b",
   "metadata": {},
   "outputs": [],
   "source": [
    "def compute_dataset_expected_space_bytes(n_tokens_in_dataset: int) -> int:\n",
    "    dataset_size_factor = n_tokens_in_dataset / n_tokens_processed\n",
    "    return total_parquet_file_size_in_bytes * dataset_size_factor"
   ]
  },
  {
   "cell_type": "code",
   "execution_count": 25,
   "id": "bb57da8a",
   "metadata": {},
   "outputs": [
    {
     "name": "stdout",
     "output_type": "stream",
     "text": [
      "expected space for wikipedia dataset: 36.0 GB\n"
     ]
    }
   ],
   "source": [
    "wikipedia_expected_space_gb = compute_dataset_expected_space_bytes(n_tokens_wikipedia) // (2 ** 30)\n",
    "print(f'expected space for wikipedia dataset: {wikipedia_expected_space_gb} GB')"
   ]
  },
  {
   "cell_type": "code",
   "execution_count": 26,
   "id": "91198add",
   "metadata": {},
   "outputs": [
    {
     "name": "stdout",
     "output_type": "stream",
     "text": [
      "expected space for RedPijama dataset: 1824.0 GB\n"
     ]
    }
   ],
   "source": [
    "red_pijama_expected_space_gb = compute_dataset_expected_space_bytes(n_tokens_red_pijama) // (2 ** 30)\n",
    "print(f'expected space for RedPijama dataset: {red_pijama_expected_space_gb} GB')"
   ]
  },
  {
   "cell_type": "code",
   "execution_count": 27,
   "id": "f7b2d2e8",
   "metadata": {},
   "outputs": [
    {
     "data": {
      "text/plain": [
       "['2023-04-24 15:43:29,715 Found cached dataset bookcorpus (C:/Users/shaig/.cache/huggingface/datasets/bookcorpus/plain_text/1.0.0/eddee3cae1cc263a431aa98207d4d27fd8a73b0a9742f692af0e6c65afa4d75f)\\n',\n",
       " '2023-04-24 15:44:02,535 Starting to count ngrams in batches\\n',\n",
       " \"2023-04-24 16:05:35,773 started working on samples 13333334-14333333;memory (MB): {'total': 8066, 'used': 6646, 'available': 1420}\\n\",\n",
       " \"2023-04-24 16:05:42,736 started working on samples 0-999999;memory (MB): {'total': 8066, 'used': 6916, 'available': 1149}\\n\",\n",
       " \"2023-04-24 16:05:42,890 started working on samples 6666667-7666666;memory (MB): {'total': 8066, 'used': 6969, 'available': 1097}\\n\",\n",
       " \"2023-04-24 16:11:06,735 finished samples 13333334 to 14333333;memory (MB): {'total': 8066, 'used': 7521, 'available': 545};counter size (MB): 0\\n\",\n",
       " \"2023-04-24 16:11:25,777 finished samples 6666667 to 7666666;memory (MB): {'total': 8066, 'used': 7511, 'available': 554};counter size (MB): 0\\n\",\n",
       " \"2023-04-24 16:11:46,078 started working on samples 14333334-15333333;memory (MB): {'total': 8066, 'used': 6659, 'available': 1406}\\n\",\n",
       " \"2023-04-24 16:11:48,670 started working on samples 7666667-8666666;memory (MB): {'total': 8066, 'used': 6896, 'available': 1170}\\n\",\n",
       " \"2023-04-24 16:11:50,166 finished samples 0 to 999999;memory (MB): {'total': 8066, 'used': 7000, 'available': 1065};counter size (MB): 0\\n\",\n",
       " \"2023-04-24 16:11:57,517 started working on samples 1000000-1999999;memory (MB): {'total': 8066, 'used': 5192, 'available': 2874}\\n\",\n",
       " \"2023-04-24 16:17:12,579 finished samples 7666667 to 8666666;memory (MB): {'total': 8066, 'used': 7595, 'available': 471};counter size (MB): 0\\n\",\n",
       " \"2023-04-24 16:17:18,525 finished samples 14333334 to 15333333;memory (MB): {'total': 8066, 'used': 7372, 'available': 693};counter size (MB): 0\\n\",\n",
       " \"2023-04-24 16:17:44,165 finished samples 1000000 to 1999999;memory (MB): {'total': 8066, 'used': 6930, 'available': 1136};counter size (MB): 0\\n\",\n",
       " \"2023-04-24 16:17:45,690 started working on samples 8666667-9666666;memory (MB): {'total': 8066, 'used': 6934, 'available': 1132}\\n\",\n",
       " \"2023-04-24 16:17:47,216 started working on samples 15333334-16333333;memory (MB): {'total': 8066, 'used': 6740, 'available': 1325}\\n\",\n",
       " \"2023-04-24 16:17:51,779 started working on samples 2000000-2999999;memory (MB): {'total': 8066, 'used': 5465, 'available': 2600}\\n\",\n",
       " \"2023-04-24 16:21:34,239 finished samples 8666667 to 9666666;memory (MB): {'total': 8066, 'used': 7068, 'available': 997};counter size (MB): 0\\n\",\n",
       " \"2023-04-24 16:21:59,211 started working on samples 9666667-10666666;memory (MB): {'total': 8066, 'used': 7512, 'available': 553}\\n\",\n",
       " \"2023-04-24 16:22:02,978 finished samples 2000000 to 2999999;memory (MB): {'total': 8066, 'used': 7710, 'available': 356};counter size (MB): 0\\n\",\n",
       " \"2023-04-24 16:22:17,358 started working on samples 3000000-3999999;memory (MB): {'total': 8066, 'used': 6901, 'available': 1165}\\n\",\n",
       " \"2023-04-24 16:22:40,638 finished samples 15333334 to 16333333;memory (MB): {'total': 8066, 'used': 7409, 'available': 657};counter size (MB): 0\\n\",\n",
       " \"2023-04-24 16:22:45,970 started working on samples 16333334-17333333;memory (MB): {'total': 8066, 'used': 5033, 'available': 3033}\\n\",\n",
       " \"2023-04-24 16:26:06,464 finished samples 9666667 to 10666666;memory (MB): {'total': 8066, 'used': 7433, 'available': 633};counter size (MB): 0\\n\",\n",
       " \"2023-04-24 16:26:17,506 finished samples 3000000 to 3999999;memory (MB): {'total': 8066, 'used': 7277, 'available': 789};counter size (MB): 0\\n\",\n",
       " \"2023-04-24 16:26:31,930 started working on samples 10666667-11666666;memory (MB): {'total': 8066, 'used': 6845, 'available': 1221}\\n\",\n",
       " \"2023-04-24 16:26:32,263 started working on samples 4000000-4999999;memory (MB): {'total': 8066, 'used': 6932, 'available': 1134}\\n\",\n",
       " \"2023-04-24 16:26:39,987 finished samples 16333334 to 17333333;memory (MB): {'total': 8066, 'used': 7453, 'available': 612};counter size (MB): 0\\n\",\n",
       " \"2023-04-24 16:26:44,499 started working on samples 17333334-18333333;memory (MB): {'total': 8066, 'used': 5261, 'available': 2805}\\n\",\n",
       " \"2023-04-24 16:31:47,306 finished samples 17333334 to 18333333;memory (MB): {'total': 8066, 'used': 7468, 'available': 598};counter size (MB): 0\\n\",\n",
       " \"2023-04-24 16:31:55,009 finished samples 4000000 to 4999999;memory (MB): {'total': 8066, 'used': 7464, 'available': 602};counter size (MB): 0\\n\",\n",
       " \"2023-04-24 16:32:04,949 finished samples 10666667 to 11666666;memory (MB): {'total': 8066, 'used': 7335, 'available': 731};counter size (MB): 0\\n\",\n",
       " \"2023-04-24 16:32:20,722 started working on samples 18333334-19333333;memory (MB): {'total': 8066, 'used': 6507, 'available': 1558}\\n\",\n",
       " \"2023-04-24 16:32:21,907 started working on samples 5000000-5999999;memory (MB): {'total': 8066, 'used': 6476, 'available': 1590}\\n\",\n",
       " \"2023-04-24 16:32:26,236 started working on samples 11666667-12666666;memory (MB): {'total': 8066, 'used': 6000, 'available': 2066}\\n\",\n",
       " \"2023-04-24 16:37:20,404 finished samples 18333334 to 19333333;memory (MB): {'total': 8066, 'used': 7306, 'available': 760};counter size (MB): 0\\n\",\n",
       " \"2023-04-24 16:37:35,972 finished samples 5000000 to 5999999;memory (MB): {'total': 8066, 'used': 7214, 'available': 852};counter size (MB): 0\\n\",\n",
       " \"2023-04-24 16:37:49,454 started working on samples 19333334-19999999;memory (MB): {'total': 8066, 'used': 6362, 'available': 1704}\\n\",\n",
       " \"2023-04-24 16:37:51,613 started working on samples 6000000-6666666;memory (MB): {'total': 8066, 'used': 6731, 'available': 1335}\\n\",\n",
       " \"2023-04-24 16:37:52,108 finished samples 11666667 to 12666666;memory (MB): {'total': 8066, 'used': 6720, 'available': 1346};counter size (MB): 0\\n\",\n",
       " \"2023-04-24 16:37:59,100 started working on samples 12666667-13333333;memory (MB): {'total': 8066, 'used': 5059, 'available': 3007}\\n\",\n",
       " \"2023-04-24 16:40:34,258 finished samples 6000000 to 6666666;memory (MB): {'total': 8066, 'used': 7252, 'available': 814};counter size (MB): 0\\n\",\n",
       " \"2023-04-24 16:40:34,287 finished samples 19333334 to 19999999;memory (MB): {'total': 8066, 'used': 7257, 'available': 809};counter size (MB): 0\\n\",\n",
       " \"2023-04-24 16:40:59,938 finished samples 12666667 to 13333333;memory (MB): {'total': 8066, 'used': 7020, 'available': 1046};counter size (MB): 0\\n\",\n",
       " '2023-04-24 16:41:18,845 Finished counting ngrams in batches\\n']"
      ]
     },
     "execution_count": 27,
     "metadata": {},
     "output_type": "execute_result"
    }
   ],
   "source": [
    "# analyze time requirements\n",
    "# collect data from the logs\n",
    "log_file = Path('./logs/count_ngram_in_batches.log')\n",
    "with log_file.open('r') as f:\n",
    "    log_lines = f.readlines()\n",
    "log_lines"
   ]
  },
  {
   "cell_type": "code",
   "execution_count": 28,
   "id": "5d92f3cd",
   "metadata": {},
   "outputs": [],
   "source": [
    "import re"
   ]
  },
  {
   "cell_type": "code",
   "execution_count": 35,
   "id": "a8ab1b80",
   "metadata": {},
   "outputs": [],
   "source": [
    "start_processing_re = r'(.*)Starting to count ngrams in batches$'\n",
    "end_processing_re = r'(.*)Finished counting ngrams in batches$'"
   ]
  },
  {
   "cell_type": "code",
   "execution_count": 36,
   "id": "f4b7e9a2",
   "metadata": {},
   "outputs": [],
   "source": [
    "from collections.abc import Iterable\n",
    "\n",
    "def filter_lines_that_match_re(lines: list[str], regex: str) -> Iterable[str]:\n",
    "    for line in lines:\n",
    "        match_obj = re.match(regex, line)\n",
    "        if match_obj is not None:\n",
    "            yield line"
   ]
  },
  {
   "cell_type": "code",
   "execution_count": 38,
   "id": "5629a7ba",
   "metadata": {},
   "outputs": [
    {
     "data": {
      "text/plain": [
       "'2023-04-24 15:44:02,535 Starting to count ngrams in batches\\n'"
      ]
     },
     "execution_count": 38,
     "metadata": {},
     "output_type": "execute_result"
    }
   ],
   "source": [
    "start_processing_line = list(filter_lines_that_match_re(log_lines, start_processing_re))[0]\n",
    "start_processing_line"
   ]
  },
  {
   "cell_type": "code",
   "execution_count": 39,
   "id": "02267c9d",
   "metadata": {},
   "outputs": [
    {
     "data": {
      "text/plain": [
       "'2023-04-24 16:41:18,845 Finished counting ngrams in batches\\n'"
      ]
     },
     "execution_count": 39,
     "metadata": {},
     "output_type": "execute_result"
    }
   ],
   "source": [
    "end_processing_line = list(filter_lines_that_match_re(log_lines, end_processing_re))[0]\n",
    "end_processing_line"
   ]
  },
  {
   "cell_type": "code",
   "execution_count": 40,
   "id": "f3ef7ecf",
   "metadata": {},
   "outputs": [],
   "source": [
    "from datetime import datetime\n",
    "\n",
    "def get_datetime_from_line(line: str):\n",
    "    datetime_str = line.split(',')[0]\n",
    "    datetime_fmt = '%Y-%m-%d %H:%M:%S'\n",
    "    return datetime.strptime(datetime_str, datetime_fmt)"
   ]
  },
  {
   "cell_type": "code",
   "execution_count": 45,
   "id": "5b49e33f",
   "metadata": {},
   "outputs": [
    {
     "data": {
      "text/plain": [
       "3436"
      ]
     },
     "execution_count": 45,
     "metadata": {},
     "output_type": "execute_result"
    }
   ],
   "source": [
    "start_datetime = get_datetime_from_line(start_processing_line)\n",
    "end_datetime = get_datetime_from_line(end_processing_line)\n",
    "total_datetime = end_datetime - start_datetime\n",
    "total_time_seconds = total_datetime.seconds\n",
    "total_time_seconds"
   ]
  },
  {
   "cell_type": "code",
   "execution_count": 46,
   "id": "afb27e55",
   "metadata": {},
   "outputs": [],
   "source": [
    "# assuming that the time is linear with the number of workers and the number of tokens in the dataset, \n",
    "#  this should be approximately correct\n",
    "def compute_expected_time_seconds(n_tokens_expected: int, n_workers_expected: int) -> float:\n",
    "    worker_factor = n_workers / n_workers_expected\n",
    "    n_tokens_factor = n_tokens_expected / n_tokens_processed\n",
    "    time_expected_seconds = total_time_seconds * worker_factor * n_tokens_factor\n",
    "    return time_expected_seconds"
   ]
  },
  {
   "cell_type": "code",
   "execution_count": 50,
   "id": "a6ca7523",
   "metadata": {},
   "outputs": [
    {
     "name": "stdout",
     "output_type": "stream",
     "text": [
      "expected time for wikipedia with n_workers=3 is 77.650 hours\n"
     ]
    }
   ],
   "source": [
    "wikipedia_n_workers = 3\n",
    "wikipedia_expected_time_seconds = compute_expected_time_seconds(n_tokens_wikipedia, wikipedia_n_workers)\n",
    "print(f'expected time for wikipedia with n_workers={wikipedia_n_workers} '\n",
    "      f'is {wikipedia_expected_time_seconds / 3600:.3f} hours')"
   ]
  },
  {
   "cell_type": "code",
   "execution_count": 52,
   "id": "7e0305c8",
   "metadata": {},
   "outputs": [
    {
     "name": "stdout",
     "output_type": "stream",
     "text": [
      "expected time for RedPijama with n_workers=3 is 161.771 days\n"
     ]
    }
   ],
   "source": [
    "red_pijama_n_workers = 3\n",
    "red_pijama_expected_time_seconds = compute_expected_time_seconds(n_tokens_red_pijama, red_pijama_n_workers)\n",
    "red_pijama_expected_time_hours = red_pijama_expected_time_seconds / 3600\n",
    "red_pijama_expected_time_days = red_pijama_expected_time_hours / 24\n",
    "print(f'expected time for RedPijama with n_workers={red_pijama_n_workers} '\n",
    "      f'is {red_pijama_expected_time_days:.3f} days')"
   ]
  }
 ],
 "metadata": {
  "kernelspec": {
   "display_name": "Python (pmi_masking)",
   "language": "python",
   "name": "pmi_masking"
  },
  "language_info": {
   "codemirror_mode": {
    "name": "ipython",
    "version": 3
   },
   "file_extension": ".py",
   "mimetype": "text/x-python",
   "name": "python",
   "nbconvert_exporter": "python",
   "pygments_lexer": "ipython3",
   "version": "3.11.1"
  }
 },
 "nbformat": 4,
 "nbformat_minor": 5
}
