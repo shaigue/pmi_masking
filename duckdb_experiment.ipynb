{
 "cells": [
  {
   "cell_type": "code",
   "execution_count": 1,
   "id": "6a674220",
   "metadata": {},
   "outputs": [
    {
     "data": {
      "text/plain": [
       "[WindowsPath('counters/ngram_counter_0-199999.parquet'),\n",
       " WindowsPath('counters/ngram_counter_1000000-1199999.parquet')]"
      ]
     },
     "execution_count": 1,
     "metadata": {},
     "output_type": "execute_result"
    }
   ],
   "source": [
    "from pathlib import Path\n",
    "counter_dir = Path('./counters')\n",
    "parquet_files = list(counter_dir.glob('*.parquet'))\n",
    "parquet_files[:2]"
   ]
  },
  {
   "cell_type": "code",
   "execution_count": 2,
   "id": "9e1566a1",
   "metadata": {},
   "outputs": [],
   "source": [
    "import duckdb\n",
    "db_connection = duckdb.connect('example_db.duckdb')"
   ]
  },
  {
   "cell_type": "code",
   "execution_count": 3,
   "id": "8788c581",
   "metadata": {},
   "outputs": [],
   "source": [
    "# Possible functions to use:\n",
    "# Connection object\n",
    "# get_table_names\n",
    "# commit\n",
    "# close\n",
    "# execute\n",
    "# executemany\n",
    "# Relation object\n",
    "# aggregate\n",
    "# apply\n",
    "# execute (lazy evaluation)\n",
    "# intersect\n",
    "# union\n",
    "# map\n",
    "# order\n",
    "# project\n",
    "# to_*\n",
    "# write_parquet"
   ]
  },
  {
   "cell_type": "code",
   "execution_count": 4,
   "id": "3ca9d70c",
   "metadata": {},
   "outputs": [],
   "source": [
    "# create two example arrow tables, and then run the query on them to check the resuts\n",
    "import pyarrow as pa\n",
    "table2 = pa.Table.from_pydict({'ngram': ['1', '3', '4'], 'count': [1, 5, 2]})"
   ]
  },
  {
   "cell_type": "code",
   "execution_count": 5,
   "id": "1643185e",
   "metadata": {},
   "outputs": [
    {
     "data": {
      "text/plain": [
       "pyarrow.Table\n",
       "ngram: string\n",
       "count: int64\n",
       "----\n",
       "ngram: [[\"1\",\"3\",\"4\"]]\n",
       "count: [[1,5,2]]"
      ]
     },
     "execution_count": 5,
     "metadata": {},
     "output_type": "execute_result"
    }
   ],
   "source": [
    "table2"
   ]
  },
  {
   "cell_type": "code",
   "execution_count": 6,
   "id": "fa7b147b",
   "metadata": {},
   "outputs": [
    {
     "data": {
      "text/plain": [
       "pyarrow.Table\n",
       "name: string\n",
       "----\n",
       "name: []"
      ]
     },
     "execution_count": 6,
     "metadata": {},
     "output_type": "execute_result"
    }
   ],
   "source": [
    "db_connection.execute(\"SHOW TABLES\").arrow()"
   ]
  },
  {
   "cell_type": "code",
   "execution_count": 7,
   "id": "6345d250",
   "metadata": {},
   "outputs": [
    {
     "name": "stdout",
     "output_type": "stream",
     "text": [
      "processing file 1 out of 5.\n"
     ]
    },
    {
     "data": {
      "application/vnd.jupyter.widget-view+json": {
       "model_id": "caf6e8baada54652b720a90a6e709feb",
       "version_major": 2,
       "version_minor": 0
      },
      "text/plain": [
       "FloatProgress(value=0.0, layout=Layout(width='100%'), style=ProgressStyle(bar_color='black'))"
      ]
     },
     "metadata": {},
     "output_type": "display_data"
    },
    {
     "name": "stdout",
     "output_type": "stream",
     "text": [
      "processing file 2 out of 5.\n"
     ]
    },
    {
     "data": {
      "application/vnd.jupyter.widget-view+json": {
       "model_id": "2a6ff97c7d49496194c2e5c2bfe48ff9",
       "version_major": 2,
       "version_minor": 0
      },
      "text/plain": [
       "FloatProgress(value=0.0, layout=Layout(width='100%'), style=ProgressStyle(bar_color='black'))"
      ]
     },
     "metadata": {},
     "output_type": "display_data"
    },
    {
     "name": "stdout",
     "output_type": "stream",
     "text": [
      "processing file 3 out of 5.\n"
     ]
    },
    {
     "data": {
      "application/vnd.jupyter.widget-view+json": {
       "model_id": "9012b5d5945d44198ce16d76827f0134",
       "version_major": 2,
       "version_minor": 0
      },
      "text/plain": [
       "FloatProgress(value=0.0, layout=Layout(width='100%'), style=ProgressStyle(bar_color='black'))"
      ]
     },
     "metadata": {},
     "output_type": "display_data"
    },
    {
     "name": "stdout",
     "output_type": "stream",
     "text": [
      "processing file 4 out of 5.\n"
     ]
    },
    {
     "data": {
      "application/vnd.jupyter.widget-view+json": {
       "model_id": "1e7b9d212f6d47f8b1e064ec9bce467c",
       "version_major": 2,
       "version_minor": 0
      },
      "text/plain": [
       "FloatProgress(value=0.0, layout=Layout(width='100%'), style=ProgressStyle(bar_color='black'))"
      ]
     },
     "metadata": {},
     "output_type": "display_data"
    },
    {
     "name": "stdout",
     "output_type": "stream",
     "text": [
      "processing file 5 out of 5.\n"
     ]
    },
    {
     "data": {
      "application/vnd.jupyter.widget-view+json": {
       "model_id": "ef9908b251e74d10b1fee6d7fdbce69f",
       "version_major": 2,
       "version_minor": 0
      },
      "text/plain": [
       "FloatProgress(value=0.0, layout=Layout(width='100%'), style=ProgressStyle(bar_color='black'))"
      ]
     },
     "metadata": {},
     "output_type": "display_data"
    }
   ],
   "source": [
    "# Flow - we initialize a table with the schema, then, for each file, we load it as a arrow table, and then we \n",
    "#  update the original one and commit\n",
    "db_connection.execute('CREATE OR REPLACE TABLE ngram_counter(ngram VARCHAR PRIMARY KEY, count INTEGER)')\n",
    "insert_query = \"\"\"\n",
    "INSERT INTO ngram_counter \n",
    "    SELECT ngram, count FROM table_to_insert\n",
    "    ON CONFLICT (ngram) DO UPDATE SET count = count + excluded.count;\n",
    "\"\"\"\n",
    "limit = 5\n",
    "for i, parquet_file in enumerate(parquet_files[:limit], 1):\n",
    "    print(f'processing file {i} out of {limit}.')\n",
    "    table_to_insert = db_connection.read_parquet(str(parquet_file))\n",
    "    db_connection.execute(insert_query)\n",
    "    db_connection.commit()"
   ]
  },
  {
   "cell_type": "code",
   "execution_count": 8,
   "id": "6a1743fa",
   "metadata": {},
   "outputs": [
    {
     "data": {
      "text/plain": [
       "pyarrow.Table\n",
       "name: string\n",
       "----\n",
       "name: [[\"ngram_counter\"]]"
      ]
     },
     "execution_count": 8,
     "metadata": {},
     "output_type": "execute_result"
    }
   ],
   "source": [
    "db_connection.execute(\"SHOW TABLES\").arrow()"
   ]
  },
  {
   "cell_type": "code",
   "execution_count": 9,
   "id": "00230c2e",
   "metadata": {},
   "outputs": [],
   "source": [
    "# TODO: pay attention to using thread-safety stuff https://duckdb.org/docs/guides/python/multiple_threads\n",
    "# All we need to do us to use\n",
    "# local_connection = db_connection.cursor()"
   ]
  },
  {
   "cell_type": "code",
   "execution_count": 10,
   "id": "97c0f785",
   "metadata": {},
   "outputs": [],
   "source": [
    "# DON't forget to close!\n",
    "db_connection.close()"
   ]
  }
 ],
 "metadata": {
  "kernelspec": {
   "display_name": "pmi_masking",
   "language": "python",
   "name": "pmi_masking"
  },
  "language_info": {
   "codemirror_mode": {
    "name": "ipython",
    "version": 3
   },
   "file_extension": ".py",
   "mimetype": "text/x-python",
   "name": "python",
   "nbconvert_exporter": "python",
   "pygments_lexer": "ipython3",
   "version": "3.10.10"
  }
 },
 "nbformat": 4,
 "nbformat_minor": 5
}
