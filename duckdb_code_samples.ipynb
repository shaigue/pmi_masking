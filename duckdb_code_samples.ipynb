{
 "cells": [
  {
   "cell_type": "code",
   "execution_count": 1,
   "id": "4e8c0ac6",
   "metadata": {},
   "outputs": [],
   "source": [
    "import duckdb\n",
    "from pathlib import Path"
   ]
  },
  {
   "cell_type": "code",
   "execution_count": 2,
   "id": "d5cbf7d4",
   "metadata": {},
   "outputs": [],
   "source": [
    "connection = duckdb.connect(':memory:')"
   ]
  },
  {
   "cell_type": "code",
   "execution_count": 3,
   "id": "abff4f71",
   "metadata": {},
   "outputs": [
    {
     "data": {
      "text/plain": [
       "<duckdb.DuckDBPyConnection at 0x20bdebcdb70>"
      ]
     },
     "execution_count": 3,
     "metadata": {},
     "output_type": "execute_result"
    }
   ],
   "source": [
    "create_table_query = f\"\"\"\n",
    "CREATE OR REPLACE TABLE new(token_1 UINTEGER, count UINTEGER, log_likelihood DOUBLE DEFAULT 0, PRIMARY KEY(token_1))\n",
    "\"\"\"\n",
    "connection.execute(create_table_query)"
   ]
  },
  {
   "cell_type": "code",
   "execution_count": 4,
   "id": "3ed22a08",
   "metadata": {},
   "outputs": [
    {
     "name": "stdout",
     "output_type": "stream",
     "text": [
      "0\n"
     ]
    },
    {
     "data": {
      "text/plain": [
       "┌─────────┬────────┬────────────────┐\n",
       "│ token_1 │ count  │ log_likelihood │\n",
       "│ uint32  │ uint32 │     double     │\n",
       "├───────────────────────────────────┤\n",
       "│              0 rows               │\n",
       "└───────────────────────────────────┘"
      ]
     },
     "execution_count": 4,
     "metadata": {},
     "output_type": "execute_result"
    }
   ],
   "source": [
    "new_table = connection.sql('SELECT * FROM new')\n",
    "print(len(new_table))\n",
    "new_table"
   ]
  },
  {
   "cell_type": "code",
   "execution_count": 5,
   "id": "2124630f",
   "metadata": {},
   "outputs": [
    {
     "data": {
      "text/plain": [
       "WindowsPath('data/1/count_table_0-999999.parquet')"
      ]
     },
     "execution_count": 5,
     "metadata": {},
     "output_type": "execute_result"
    }
   ],
   "source": [
    "parquet_file = Path('data/1/count_table_0-999999.parquet')\n",
    "parquet_file"
   ]
  },
  {
   "cell_type": "code",
   "execution_count": 6,
   "id": "2429cc56",
   "metadata": {},
   "outputs": [
    {
     "name": "stdout",
     "output_type": "stream",
     "text": [
      "21237\n"
     ]
    },
    {
     "data": {
      "text/plain": [
       "┌───────────────┬────────┐\n",
       "│    token_1    │ count  │\n",
       "│     int64     │ int64  │\n",
       "├───────────────┼────────┤\n",
       "│          2788 │   1097 │\n",
       "│          1010 │ 634525 │\n",
       "│          2002 │ 249401 │\n",
       "│          2052 │  44729 │\n",
       "│          2022 │  55340 │\n",
       "│         13311 │    326 │\n",
       "│          2105 │  20016 │\n",
       "│          1996 │ 477275 │\n",
       "│          2542 │   2668 │\n",
       "│          2282 │  12122 │\n",
       "│            ·  │     ·  │\n",
       "│            ·  │     ·  │\n",
       "│            ·  │     ·  │\n",
       "│         17114 │    197 │\n",
       "│         22119 │    138 │\n",
       "│          3505 │    317 │\n",
       "│         14688 │    284 │\n",
       "│         18915 │    130 │\n",
       "│          9306 │     89 │\n",
       "│          6341 │     18 │\n",
       "│         10920 │     89 │\n",
       "│         25937 │     38 │\n",
       "│         12822 │     43 │\n",
       "├───────────────┴────────┤\n",
       "│ ? rows       2 columns │\n",
       "└────────────────────────┘"
      ]
     },
     "execution_count": 6,
     "metadata": {},
     "output_type": "execute_result"
    }
   ],
   "source": [
    "table_to_insert = connection.from_parquet(str(parquet_file))\n",
    "print(len(table_to_insert))\n",
    "table_to_insert"
   ]
  },
  {
   "cell_type": "code",
   "execution_count": 7,
   "id": "565c6302",
   "metadata": {},
   "outputs": [
    {
     "data": {
      "text/plain": [
       "<duckdb.DuckDBPyConnection at 0x20bdebcdb70>"
      ]
     },
     "execution_count": 7,
     "metadata": {},
     "output_type": "execute_result"
    }
   ],
   "source": [
    "insert_query1 = \"\"\"\n",
    "INSERT INTO new \n",
    "    SELECT token_1, count, 0 FROM table_to_insert\n",
    "    ON CONFLICT (token_1) DO UPDATE\n",
    "        SET count = count + excluded.count;\n",
    "\"\"\"\n",
    "connection.execute(insert_query1)"
   ]
  },
  {
   "cell_type": "code",
   "execution_count": 8,
   "id": "82551254",
   "metadata": {},
   "outputs": [
    {
     "name": "stdout",
     "output_type": "stream",
     "text": [
      "21237\n"
     ]
    },
    {
     "data": {
      "text/plain": [
       "┌─────────┬────────┬────────────────┐\n",
       "│ token_1 │ count  │ log_likelihood │\n",
       "│ uint32  │ uint32 │     double     │\n",
       "├─────────┼────────┼────────────────┤\n",
       "│    2788 │   1097 │            0.0 │\n",
       "│    1010 │ 634525 │            0.0 │\n",
       "│    2002 │ 249401 │            0.0 │\n",
       "│    2052 │  44729 │            0.0 │\n",
       "│    2022 │  55340 │            0.0 │\n",
       "│   13311 │    326 │            0.0 │\n",
       "│    2105 │  20016 │            0.0 │\n",
       "│    1996 │ 477275 │            0.0 │\n",
       "│    2542 │   2668 │            0.0 │\n",
       "│    2282 │  12122 │            0.0 │\n",
       "│      ·  │     ·  │             ·  │\n",
       "│      ·  │     ·  │             ·  │\n",
       "│      ·  │     ·  │             ·  │\n",
       "│   17114 │    197 │            0.0 │\n",
       "│   22119 │    138 │            0.0 │\n",
       "│    3505 │    317 │            0.0 │\n",
       "│   14688 │    284 │            0.0 │\n",
       "│   18915 │    130 │            0.0 │\n",
       "│    9306 │     89 │            0.0 │\n",
       "│    6341 │     18 │            0.0 │\n",
       "│   10920 │     89 │            0.0 │\n",
       "│   25937 │     38 │            0.0 │\n",
       "│   12822 │     43 │            0.0 │\n",
       "├─────────┴────────┴────────────────┤\n",
       "│   ? rows (>9999 rows, 20 shown)   │\n",
       "└───────────────────────────────────┘"
      ]
     },
     "execution_count": 8,
     "metadata": {},
     "output_type": "execute_result"
    }
   ],
   "source": [
    "new_table = connection.sql('SELECT * FROM new')\n",
    "print(len(new_table))\n",
    "new_table"
   ]
  },
  {
   "cell_type": "code",
   "execution_count": 9,
   "id": "f8e275e8",
   "metadata": {},
   "outputs": [
    {
     "name": "stdout",
     "output_type": "stream",
     "text": [
      "20761\n"
     ]
    },
    {
     "data": {
      "text/plain": [
       "┌───────────────┬────────┐\n",
       "│    token_1    │ count  │\n",
       "│     int64     │ int64  │\n",
       "├───────────────┼────────┤\n",
       "│          1037 │ 208277 │\n",
       "│          3730 │   3020 │\n",
       "│          7324 │    644 │\n",
       "│          2006 │  78829 │\n",
       "│          1996 │ 400332 │\n",
       "│          2341 │  10425 │\n",
       "│          2081 │  13989 │\n",
       "│          2033 │ 113129 │\n",
       "│          5376 │    584 │\n",
       "│          1012 │ 945786 │\n",
       "│            ·  │      · │\n",
       "│            ·  │      · │\n",
       "│            ·  │      · │\n",
       "│         17959 │     55 │\n",
       "│         17364 │     64 │\n",
       "│         25289 │     20 │\n",
       "│         16153 │    235 │\n",
       "│         20699 │     27 │\n",
       "│         27801 │    121 │\n",
       "│         28625 │      4 │\n",
       "│          7712 │     36 │\n",
       "│         17284 │     16 │\n",
       "│         17813 │     32 │\n",
       "├───────────────┴────────┤\n",
       "│ ? rows       2 columns │\n",
       "└────────────────────────┘"
      ]
     },
     "execution_count": 9,
     "metadata": {},
     "output_type": "execute_result"
    }
   ],
   "source": [
    "parquet_file2 = Path('data/1/count_table_1000000-1999999.parquet')\n",
    "table_to_insert2 = connection.from_parquet(str(parquet_file2))\n",
    "print(len(table_to_insert2))\n",
    "table_to_insert2"
   ]
  },
  {
   "cell_type": "code",
   "execution_count": 10,
   "id": "81f0ec13",
   "metadata": {},
   "outputs": [
    {
     "data": {
      "text/plain": [
       "<duckdb.DuckDBPyConnection at 0x20bdebcdb70>"
      ]
     },
     "execution_count": 10,
     "metadata": {},
     "output_type": "execute_result"
    }
   ],
   "source": [
    "insert_query2 = f\"\"\"\n",
    "INSERT INTO new \n",
    "    SELECT token_1, count, 0 FROM table_to_insert2\n",
    "    ON CONFLICT (token_1) DO UPDATE \n",
    "        SET count = count + excluded.count;\n",
    "\"\"\"\n",
    "connection.execute(insert_query2)"
   ]
  },
  {
   "cell_type": "code",
   "execution_count": 11,
   "id": "9dcb0d57",
   "metadata": {},
   "outputs": [
    {
     "name": "stdout",
     "output_type": "stream",
     "text": [
      "22548\n"
     ]
    },
    {
     "data": {
      "text/plain": [
       "┌─────────┬─────────┬────────────────┐\n",
       "│ token_1 │  count  │ log_likelihood │\n",
       "│ uint32  │ uint32  │     double     │\n",
       "├─────────┼─────────┼────────────────┤\n",
       "│    2788 │    2277 │            0.0 │\n",
       "│    1010 │ 1241213 │            0.0 │\n",
       "│    2002 │  473866 │            0.0 │\n",
       "│    2052 │   79586 │            0.0 │\n",
       "│    2022 │  104493 │            0.0 │\n",
       "│   13311 │     527 │            0.0 │\n",
       "│    2105 │   38128 │            0.0 │\n",
       "│    1996 │  877607 │            0.0 │\n",
       "│    2542 │    4746 │            0.0 │\n",
       "│    2282 │   22159 │            0.0 │\n",
       "│      ·  │      ·  │             ·  │\n",
       "│      ·  │      ·  │             ·  │\n",
       "│      ·  │      ·  │             ·  │\n",
       "│   17114 │     217 │            0.0 │\n",
       "│   22119 │     214 │            0.0 │\n",
       "│    3505 │     768 │            0.0 │\n",
       "│   14688 │     583 │            0.0 │\n",
       "│   18915 │     188 │            0.0 │\n",
       "│    9306 │     118 │            0.0 │\n",
       "│    6341 │      64 │            0.0 │\n",
       "│   10920 │     156 │            0.0 │\n",
       "│   25937 │      98 │            0.0 │\n",
       "│   12822 │      80 │            0.0 │\n",
       "├─────────┴─────────┴────────────────┤\n",
       "│   ? rows (>9999 rows, 20 shown)    │\n",
       "└────────────────────────────────────┘"
      ]
     },
     "execution_count": 11,
     "metadata": {},
     "output_type": "execute_result"
    }
   ],
   "source": [
    "new_table = connection.sql('SELECT * FROM new')\n",
    "print(len(new_table))\n",
    "new_table"
   ]
  }
 ],
 "metadata": {
  "kernelspec": {
   "display_name": "Python (pmi_masking)",
   "language": "python",
   "name": "pmi_masking"
  },
  "language_info": {
   "codemirror_mode": {
    "name": "ipython",
    "version": 3
   },
   "file_extension": ".py",
   "mimetype": "text/x-python",
   "name": "python",
   "nbconvert_exporter": "python",
   "pygments_lexer": "ipython3",
   "version": "3.11.1"
  }
 },
 "nbformat": 4,
 "nbformat_minor": 5
}
